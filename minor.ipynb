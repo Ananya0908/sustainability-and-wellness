{
 "cells": [
  {
   "cell_type": "code",
   "execution_count": 1,
   "metadata": {},
   "outputs": [
    {
     "ename": "ModuleNotFoundError",
     "evalue": "No module named 'matplotlib.pylot'",
     "output_type": "error",
     "traceback": [
      "\u001b[1;31m---------------------------------------------------------------------------\u001b[0m",
      "\u001b[1;31mModuleNotFoundError\u001b[0m                       Traceback (most recent call last)",
      "\u001b[1;32m<ipython-input-1-1a618d0603bd>\u001b[0m in \u001b[0;36m<module>\u001b[1;34m\u001b[0m\n\u001b[0;32m      1\u001b[0m \u001b[1;32mimport\u001b[0m \u001b[0mnumpy\u001b[0m \u001b[1;32mas\u001b[0m \u001b[0mnp\u001b[0m\u001b[1;33m\u001b[0m\u001b[1;33m\u001b[0m\u001b[0m\n\u001b[1;32m----> 2\u001b[1;33m \u001b[1;32mimport\u001b[0m \u001b[0mmatplotlib\u001b[0m\u001b[1;33m.\u001b[0m\u001b[0mpylot\u001b[0m \u001b[1;32mas\u001b[0m \u001b[0mplt\u001b[0m\u001b[1;33m\u001b[0m\u001b[1;33m\u001b[0m\u001b[0m\n\u001b[0m\u001b[0;32m      3\u001b[0m \u001b[1;32mimport\u001b[0m \u001b[0mpandas\u001b[0m \u001b[1;32mas\u001b[0m \u001b[0mpd\u001b[0m\u001b[1;33m\u001b[0m\u001b[1;33m\u001b[0m\u001b[0m\n\u001b[0;32m      4\u001b[0m \u001b[1;32mimport\u001b[0m \u001b[0mseaborn\u001b[0m \u001b[1;32mas\u001b[0m \u001b[0msns\u001b[0m\u001b[1;33m\u001b[0m\u001b[1;33m\u001b[0m\u001b[0m\n\u001b[0;32m      5\u001b[0m \u001b[0mget_ipython\u001b[0m\u001b[1;33m(\u001b[0m\u001b[1;33m)\u001b[0m\u001b[1;33m.\u001b[0m\u001b[0mrun_line_magic\u001b[0m\u001b[1;33m(\u001b[0m\u001b[1;34m'matplotlib'\u001b[0m\u001b[1;33m,\u001b[0m \u001b[1;34m'inline'\u001b[0m\u001b[1;33m)\u001b[0m\u001b[1;33m\u001b[0m\u001b[1;33m\u001b[0m\u001b[0m\n",
      "\u001b[1;31mModuleNotFoundError\u001b[0m: No module named 'matplotlib.pylot'"
     ]
    }
   ],
   "source": [
    "import numpy as np\n",
    "import matplotlib.pylot as plt\n",
    "import pandas as pd\n",
    "import seaborn as sns\n",
    "%matplotlib inline"
   ]
  },
  {
   "cell_type": "code",
   "execution_count": 2,
   "metadata": {},
   "outputs": [],
   "source": [
    "import numpy as np\n",
    "import matplotlib.pyplot as plt\n",
    "import pandas as pd\n",
    "import seaborn as sns\n",
    "%matplotlib inline"
   ]
  },
  {
   "cell_type": "code",
   "execution_count": 3,
   "metadata": {},
   "outputs": [
    {
     "ename": "SyntaxError",
     "evalue": "(unicode error) 'unicodeescape' codec can't decode bytes in position 2-3: truncated \\UXXXXXXXX escape (<ipython-input-3-2be4ac815629>, line 1)",
     "output_type": "error",
     "traceback": [
      "\u001b[1;36m  File \u001b[1;32m\"<ipython-input-3-2be4ac815629>\"\u001b[1;36m, line \u001b[1;32m1\u001b[0m\n\u001b[1;33m    companies=pd.read_csv('C:\\Users\\Ananya\\Desktop\\FitBit data.csv')\u001b[0m\n\u001b[1;37m                          ^\u001b[0m\n\u001b[1;31mSyntaxError\u001b[0m\u001b[1;31m:\u001b[0m (unicode error) 'unicodeescape' codec can't decode bytes in position 2-3: truncated \\UXXXXXXXX escape\n"
     ]
    }
   ],
   "source": [
    "companies=pd.read_csv('C:\\Users\\Ananya\\Desktop\\FitBit data.csv')\n"
   ]
  },
  {
   "cell_type": "code",
   "execution_count": 3,
   "metadata": {},
   "outputs": [],
   "source": [
    "companies=pd.read_csv('C:/Users/Ananya/Desktop/FitBit_data.csv')\n"
   ]
  },
  {
   "cell_type": "code",
   "execution_count": 4,
   "metadata": {},
   "outputs": [
    {
     "name": "stdout",
     "output_type": "stream",
     "text": [
      "False\n"
     ]
    }
   ],
   "source": [
    "companies\n",
    "print(companies.isnull().values.any())"
   ]
  },
  {
   "cell_type": "code",
   "execution_count": 5,
   "metadata": {},
   "outputs": [
    {
     "data": {
      "text/html": [
       "<div>\n",
       "<style scoped>\n",
       "    .dataframe tbody tr th:only-of-type {\n",
       "        vertical-align: middle;\n",
       "    }\n",
       "\n",
       "    .dataframe tbody tr th {\n",
       "        vertical-align: top;\n",
       "    }\n",
       "\n",
       "    .dataframe thead th {\n",
       "        text-align: right;\n",
       "    }\n",
       "</style>\n",
       "<table border=\"1\" class=\"dataframe\">\n",
       "  <thead>\n",
       "    <tr style=\"text-align: right;\">\n",
       "      <th></th>\n",
       "      <th>Id</th>\n",
       "      <th>ActivityDate</th>\n",
       "      <th>TotalSteps</th>\n",
       "      <th>TotalDistance</th>\n",
       "      <th>TrackerDistance</th>\n",
       "      <th>LoggedActivitiesDistance</th>\n",
       "      <th>VeryActiveDistance</th>\n",
       "      <th>ModeratelyActiveDistance</th>\n",
       "      <th>LightActiveDistance</th>\n",
       "      <th>SedentaryActiveDistance</th>\n",
       "      <th>VeryActiveMinutes</th>\n",
       "      <th>FairlyActiveMinutes</th>\n",
       "      <th>LightlyActiveMinutes</th>\n",
       "      <th>SedentaryMinutes</th>\n",
       "      <th>Calories</th>\n",
       "    </tr>\n",
       "  </thead>\n",
       "  <tbody>\n",
       "    <tr>\n",
       "      <th>0</th>\n",
       "      <td>1503960366</td>\n",
       "      <td>3/25/2016</td>\n",
       "      <td>11004</td>\n",
       "      <td>7.11</td>\n",
       "      <td>7.11</td>\n",
       "      <td>0.0</td>\n",
       "      <td>2.57</td>\n",
       "      <td>0.46</td>\n",
       "      <td>4.07</td>\n",
       "      <td>0.0</td>\n",
       "      <td>33</td>\n",
       "      <td>12</td>\n",
       "      <td>205</td>\n",
       "      <td>804</td>\n",
       "      <td>1819</td>\n",
       "    </tr>\n",
       "    <tr>\n",
       "      <th>1</th>\n",
       "      <td>1503960366</td>\n",
       "      <td>3/26/2016</td>\n",
       "      <td>17609</td>\n",
       "      <td>11.55</td>\n",
       "      <td>11.55</td>\n",
       "      <td>0.0</td>\n",
       "      <td>6.92</td>\n",
       "      <td>0.73</td>\n",
       "      <td>3.91</td>\n",
       "      <td>0.0</td>\n",
       "      <td>89</td>\n",
       "      <td>17</td>\n",
       "      <td>274</td>\n",
       "      <td>588</td>\n",
       "      <td>2154</td>\n",
       "    </tr>\n",
       "    <tr>\n",
       "      <th>2</th>\n",
       "      <td>1503960366</td>\n",
       "      <td>3/27/2016</td>\n",
       "      <td>12736</td>\n",
       "      <td>8.53</td>\n",
       "      <td>8.53</td>\n",
       "      <td>0.0</td>\n",
       "      <td>4.66</td>\n",
       "      <td>0.16</td>\n",
       "      <td>3.71</td>\n",
       "      <td>0.0</td>\n",
       "      <td>56</td>\n",
       "      <td>5</td>\n",
       "      <td>268</td>\n",
       "      <td>605</td>\n",
       "      <td>1944</td>\n",
       "    </tr>\n",
       "    <tr>\n",
       "      <th>3</th>\n",
       "      <td>1503960366</td>\n",
       "      <td>3/28/2016</td>\n",
       "      <td>13231</td>\n",
       "      <td>8.93</td>\n",
       "      <td>8.93</td>\n",
       "      <td>0.0</td>\n",
       "      <td>3.19</td>\n",
       "      <td>0.79</td>\n",
       "      <td>4.95</td>\n",
       "      <td>0.0</td>\n",
       "      <td>39</td>\n",
       "      <td>20</td>\n",
       "      <td>224</td>\n",
       "      <td>1080</td>\n",
       "      <td>1932</td>\n",
       "    </tr>\n",
       "    <tr>\n",
       "      <th>4</th>\n",
       "      <td>1503960366</td>\n",
       "      <td>3/29/2016</td>\n",
       "      <td>12041</td>\n",
       "      <td>7.85</td>\n",
       "      <td>7.85</td>\n",
       "      <td>0.0</td>\n",
       "      <td>2.16</td>\n",
       "      <td>1.09</td>\n",
       "      <td>4.61</td>\n",
       "      <td>0.0</td>\n",
       "      <td>28</td>\n",
       "      <td>28</td>\n",
       "      <td>243</td>\n",
       "      <td>763</td>\n",
       "      <td>1886</td>\n",
       "    </tr>\n",
       "  </tbody>\n",
       "</table>\n",
       "</div>"
      ],
      "text/plain": [
       "           Id ActivityDate  TotalSteps  TotalDistance  TrackerDistance  \\\n",
       "0  1503960366    3/25/2016       11004           7.11             7.11   \n",
       "1  1503960366    3/26/2016       17609          11.55            11.55   \n",
       "2  1503960366    3/27/2016       12736           8.53             8.53   \n",
       "3  1503960366    3/28/2016       13231           8.93             8.93   \n",
       "4  1503960366    3/29/2016       12041           7.85             7.85   \n",
       "\n",
       "   LoggedActivitiesDistance  VeryActiveDistance  ModeratelyActiveDistance  \\\n",
       "0                       0.0                2.57                      0.46   \n",
       "1                       0.0                6.92                      0.73   \n",
       "2                       0.0                4.66                      0.16   \n",
       "3                       0.0                3.19                      0.79   \n",
       "4                       0.0                2.16                      1.09   \n",
       "\n",
       "   LightActiveDistance  SedentaryActiveDistance  VeryActiveMinutes  \\\n",
       "0                 4.07                      0.0                 33   \n",
       "1                 3.91                      0.0                 89   \n",
       "2                 3.71                      0.0                 56   \n",
       "3                 4.95                      0.0                 39   \n",
       "4                 4.61                      0.0                 28   \n",
       "\n",
       "   FairlyActiveMinutes  LightlyActiveMinutes  SedentaryMinutes  Calories  \n",
       "0                   12                   205               804      1819  \n",
       "1                   17                   274               588      2154  \n",
       "2                    5                   268               605      1944  \n",
       "3                   20                   224              1080      1932  \n",
       "4                   28                   243               763      1886  "
      ]
     },
     "execution_count": 5,
     "metadata": {},
     "output_type": "execute_result"
    }
   ],
   "source": [
    "companies.head()"
   ]
  },
  {
   "cell_type": "code",
   "execution_count": 6,
   "metadata": {},
   "outputs": [
    {
     "data": {
      "text/plain": [
       "Id                          1503960366\n",
       "ActivityDate                 3/25/2016\n",
       "TotalSteps                       11004\n",
       "TotalDistance                     7.11\n",
       "TrackerDistance                   7.11\n",
       "LoggedActivitiesDistance             0\n",
       "VeryActiveDistance                2.57\n",
       "ModeratelyActiveDistance          0.46\n",
       "LightActiveDistance               4.07\n",
       "SedentaryActiveDistance              0\n",
       "VeryActiveMinutes                   33\n",
       "FairlyActiveMinutes                 12\n",
       "LightlyActiveMinutes               205\n",
       "SedentaryMinutes                   804\n",
       "Calories                          1819\n",
       "Name: 0, dtype: object"
      ]
     },
     "execution_count": 6,
     "metadata": {},
     "output_type": "execute_result"
    }
   ],
   "source": [
    "companies.iloc[0]"
   ]
  },
  {
   "cell_type": "code",
   "execution_count": 8,
   "metadata": {},
   "outputs": [
    {
     "data": {
      "text/html": [
       "<div>\n",
       "<style scoped>\n",
       "    .dataframe tbody tr th:only-of-type {\n",
       "        vertical-align: middle;\n",
       "    }\n",
       "\n",
       "    .dataframe tbody tr th {\n",
       "        vertical-align: top;\n",
       "    }\n",
       "\n",
       "    .dataframe thead th {\n",
       "        text-align: right;\n",
       "    }\n",
       "</style>\n",
       "<table border=\"1\" class=\"dataframe\">\n",
       "  <thead>\n",
       "    <tr style=\"text-align: right;\">\n",
       "      <th></th>\n",
       "      <th>Id</th>\n",
       "      <th>ActivityDate</th>\n",
       "      <th>TotalSteps</th>\n",
       "      <th>TotalDistance</th>\n",
       "      <th>TrackerDistance</th>\n",
       "      <th>LoggedActivitiesDistance</th>\n",
       "      <th>VeryActiveDistance</th>\n",
       "      <th>ModeratelyActiveDistance</th>\n",
       "      <th>LightActiveDistance</th>\n",
       "      <th>SedentaryActiveDistance</th>\n",
       "      <th>VeryActiveMinutes</th>\n",
       "      <th>FairlyActiveMinutes</th>\n",
       "      <th>LightlyActiveMinutes</th>\n",
       "      <th>SedentaryMinutes</th>\n",
       "      <th>Calories</th>\n",
       "    </tr>\n",
       "  </thead>\n",
       "  <tbody>\n",
       "    <tr>\n",
       "      <th>0</th>\n",
       "      <td>1503960366</td>\n",
       "      <td>3/25/2016</td>\n",
       "      <td>11004</td>\n",
       "      <td>7.11</td>\n",
       "      <td>7.11</td>\n",
       "      <td>0.0</td>\n",
       "      <td>2.57</td>\n",
       "      <td>0.46</td>\n",
       "      <td>4.07</td>\n",
       "      <td>0.0</td>\n",
       "      <td>33</td>\n",
       "      <td>12</td>\n",
       "      <td>205</td>\n",
       "      <td>804</td>\n",
       "      <td>1819</td>\n",
       "    </tr>\n",
       "    <tr>\n",
       "      <th>1</th>\n",
       "      <td>1503960366</td>\n",
       "      <td>3/26/2016</td>\n",
       "      <td>17609</td>\n",
       "      <td>11.55</td>\n",
       "      <td>11.55</td>\n",
       "      <td>0.0</td>\n",
       "      <td>6.92</td>\n",
       "      <td>0.73</td>\n",
       "      <td>3.91</td>\n",
       "      <td>0.0</td>\n",
       "      <td>89</td>\n",
       "      <td>17</td>\n",
       "      <td>274</td>\n",
       "      <td>588</td>\n",
       "      <td>2154</td>\n",
       "    </tr>\n",
       "  </tbody>\n",
       "</table>\n",
       "</div>"
      ],
      "text/plain": [
       "           Id ActivityDate  TotalSteps  TotalDistance  TrackerDistance  \\\n",
       "0  1503960366    3/25/2016       11004           7.11             7.11   \n",
       "1  1503960366    3/26/2016       17609          11.55            11.55   \n",
       "\n",
       "   LoggedActivitiesDistance  VeryActiveDistance  ModeratelyActiveDistance  \\\n",
       "0                       0.0                2.57                      0.46   \n",
       "1                       0.0                6.92                      0.73   \n",
       "\n",
       "   LightActiveDistance  SedentaryActiveDistance  VeryActiveMinutes  \\\n",
       "0                 4.07                      0.0                 33   \n",
       "1                 3.91                      0.0                 89   \n",
       "\n",
       "   FairlyActiveMinutes  LightlyActiveMinutes  SedentaryMinutes  Calories  \n",
       "0                   12                   205               804      1819  \n",
       "1                   17                   274               588      2154  "
      ]
     },
     "execution_count": 8,
     "metadata": {},
     "output_type": "execute_result"
    }
   ],
   "source": [
    "companies.iloc[0:2]"
   ]
  },
  {
   "cell_type": "code",
   "execution_count": 9,
   "metadata": {},
   "outputs": [
    {
     "data": {
      "text/plain": [
       "0       7.110000\n",
       "1      11.550000\n",
       "2       8.530000\n",
       "3       8.930000\n",
       "4       7.850000\n",
       "         ...    \n",
       "452    20.389999\n",
       "453     8.070000\n",
       "454    27.530001\n",
       "455     8.060000\n",
       "456     1.780000\n",
       "Name: TrackerDistance, Length: 457, dtype: float64"
      ]
     },
     "execution_count": 9,
     "metadata": {},
     "output_type": "execute_result"
    }
   ],
   "source": [
    "companies.iloc[:,4]"
   ]
  },
  {
   "cell_type": "code",
   "execution_count": 10,
   "metadata": {},
   "outputs": [
    {
     "data": {
      "text/html": [
       "<div>\n",
       "<style scoped>\n",
       "    .dataframe tbody tr th:only-of-type {\n",
       "        vertical-align: middle;\n",
       "    }\n",
       "\n",
       "    .dataframe tbody tr th {\n",
       "        vertical-align: top;\n",
       "    }\n",
       "\n",
       "    .dataframe thead th {\n",
       "        text-align: right;\n",
       "    }\n",
       "</style>\n",
       "<table border=\"1\" class=\"dataframe\">\n",
       "  <thead>\n",
       "    <tr style=\"text-align: right;\">\n",
       "      <th></th>\n",
       "      <th>Id</th>\n",
       "      <th>ActivityDate</th>\n",
       "      <th>TotalSteps</th>\n",
       "      <th>TotalDistance</th>\n",
       "      <th>TrackerDistance</th>\n",
       "      <th>LoggedActivitiesDistance</th>\n",
       "      <th>VeryActiveDistance</th>\n",
       "      <th>ModeratelyActiveDistance</th>\n",
       "      <th>LightActiveDistance</th>\n",
       "      <th>SedentaryActiveDistance</th>\n",
       "      <th>VeryActiveMinutes</th>\n",
       "      <th>FairlyActiveMinutes</th>\n",
       "      <th>LightlyActiveMinutes</th>\n",
       "      <th>SedentaryMinutes</th>\n",
       "      <th>Calories</th>\n",
       "    </tr>\n",
       "  </thead>\n",
       "  <tbody>\n",
       "    <tr>\n",
       "      <th>0</th>\n",
       "      <td>1503960366</td>\n",
       "      <td>3/25/2016</td>\n",
       "      <td>11004</td>\n",
       "      <td>7.11</td>\n",
       "      <td>7.11</td>\n",
       "      <td>0.0</td>\n",
       "      <td>2.57</td>\n",
       "      <td>0.46</td>\n",
       "      <td>4.07</td>\n",
       "      <td>0.0</td>\n",
       "      <td>33</td>\n",
       "      <td>12</td>\n",
       "      <td>205</td>\n",
       "      <td>804</td>\n",
       "      <td>1819</td>\n",
       "    </tr>\n",
       "    <tr>\n",
       "      <th>1</th>\n",
       "      <td>1503960366</td>\n",
       "      <td>3/26/2016</td>\n",
       "      <td>17609</td>\n",
       "      <td>11.55</td>\n",
       "      <td>11.55</td>\n",
       "      <td>0.0</td>\n",
       "      <td>6.92</td>\n",
       "      <td>0.73</td>\n",
       "      <td>3.91</td>\n",
       "      <td>0.0</td>\n",
       "      <td>89</td>\n",
       "      <td>17</td>\n",
       "      <td>274</td>\n",
       "      <td>588</td>\n",
       "      <td>2154</td>\n",
       "    </tr>\n",
       "    <tr>\n",
       "      <th>2</th>\n",
       "      <td>1503960366</td>\n",
       "      <td>3/27/2016</td>\n",
       "      <td>12736</td>\n",
       "      <td>8.53</td>\n",
       "      <td>8.53</td>\n",
       "      <td>0.0</td>\n",
       "      <td>4.66</td>\n",
       "      <td>0.16</td>\n",
       "      <td>3.71</td>\n",
       "      <td>0.0</td>\n",
       "      <td>56</td>\n",
       "      <td>5</td>\n",
       "      <td>268</td>\n",
       "      <td>605</td>\n",
       "      <td>1944</td>\n",
       "    </tr>\n",
       "    <tr>\n",
       "      <th>3</th>\n",
       "      <td>1503960366</td>\n",
       "      <td>3/28/2016</td>\n",
       "      <td>13231</td>\n",
       "      <td>8.93</td>\n",
       "      <td>8.93</td>\n",
       "      <td>0.0</td>\n",
       "      <td>3.19</td>\n",
       "      <td>0.79</td>\n",
       "      <td>4.95</td>\n",
       "      <td>0.0</td>\n",
       "      <td>39</td>\n",
       "      <td>20</td>\n",
       "      <td>224</td>\n",
       "      <td>1080</td>\n",
       "      <td>1932</td>\n",
       "    </tr>\n",
       "  </tbody>\n",
       "</table>\n",
       "</div>"
      ],
      "text/plain": [
       "           Id ActivityDate  TotalSteps  TotalDistance  TrackerDistance  \\\n",
       "0  1503960366    3/25/2016       11004           7.11             7.11   \n",
       "1  1503960366    3/26/2016       17609          11.55            11.55   \n",
       "2  1503960366    3/27/2016       12736           8.53             8.53   \n",
       "3  1503960366    3/28/2016       13231           8.93             8.93   \n",
       "\n",
       "   LoggedActivitiesDistance  VeryActiveDistance  ModeratelyActiveDistance  \\\n",
       "0                       0.0                2.57                      0.46   \n",
       "1                       0.0                6.92                      0.73   \n",
       "2                       0.0                4.66                      0.16   \n",
       "3                       0.0                3.19                      0.79   \n",
       "\n",
       "   LightActiveDistance  SedentaryActiveDistance  VeryActiveMinutes  \\\n",
       "0                 4.07                      0.0                 33   \n",
       "1                 3.91                      0.0                 89   \n",
       "2                 3.71                      0.0                 56   \n",
       "3                 4.95                      0.0                 39   \n",
       "\n",
       "   FairlyActiveMinutes  LightlyActiveMinutes  SedentaryMinutes  Calories  \n",
       "0                   12                   205               804      1819  \n",
       "1                   17                   274               588      2154  \n",
       "2                    5                   268               605      1944  \n",
       "3                   20                   224              1080      1932  "
      ]
     },
     "execution_count": 10,
     "metadata": {},
     "output_type": "execute_result"
    }
   ],
   "source": [
    "companies.iloc[:4]"
   ]
  },
  {
   "cell_type": "code",
   "execution_count": 11,
   "metadata": {},
   "outputs": [],
   "source": [
    "y=companies.iloc[:,4].values"
   ]
  },
  {
   "cell_type": "code",
   "execution_count": 12,
   "metadata": {},
   "outputs": [
    {
     "data": {
      "text/plain": [
       "array([7.11000013e+00, 1.15500002e+01, 8.52999973e+00, 8.93000031e+00,\n",
       "       7.84999990e+00, 7.15999985e+00, 7.86000013e+00, 7.86999989e+00,\n",
       "       7.25000000e+00, 6.36999989e+00, 9.80000019e+00, 9.72999954e+00,\n",
       "       7.67000008e+00, 6.44000006e+00, 7.94000006e+00, 8.10000038e+00,\n",
       "       6.98000002e+00, 7.26000023e+00, 1.40000001e-01, 1.17999995e+00,\n",
       "       5.29999971e-01, 1.28999996e+00, 1.24000001e+00, 1.00999999e+00,\n",
       "       1.09000003e+00, 2.93000007e+00, 5.98999977e+00, 1.00999999e+00,\n",
       "       1.88999999e+00, 1.20000000e+01, 8.70000005e-01, 6.49999976e-01,\n",
       "       7.20000029e-01, 4.11999989e+00, 2.31999993e+00, 2.53999996e+00,\n",
       "       6.50000000e+00, 4.30999994e+00, 3.41000009e+00, 1.47100000e+01,\n",
       "       9.40999985e+00, 2.04999995e+00, 7.21000004e+00, 5.84999990e+00,\n",
       "       8.11999989e+00, 5.69999981e+00, 1.00600004e+01, 9.70000029e-01,\n",
       "       4.53000021e+00, 3.54999995e+00, 1.88000000e+00, 0.00000000e+00,\n",
       "       0.00000000e+00, 0.00000000e+00, 4.19000006e+00, 3.50999999e+00,\n",
       "       3.28999996e+00, 4.34000015e+00, 3.58999991e+00, 0.00000000e+00,\n",
       "       2.99000001e+00, 3.92000008e+00, 2.21000004e+00, 1.63000000e+00,\n",
       "       1.54999995e+00, 8.70000005e-01, 5.29999971e-01, 3.60000014e-01,\n",
       "       1.75000000e+00, 1.46000004e+00, 8.39999974e-01, 1.99999996e-02,\n",
       "       9.60000038e+00, 3.83999991e+00, 7.82000017e+00, 1.10000000e+01,\n",
       "       7.59000015e+00, 1.09300003e+01, 1.38299999e+01, 9.26000023e+00,\n",
       "       1.25900002e+01, 7.01999998e+00, 7.09000015e+00, 4.71999979e+00,\n",
       "       1.62000000e+00, 7.59999990e-01, 1.42999995e+00, 4.13999987e+00,\n",
       "       3.50000000e+00, 1.97000003e+00, 1.72000003e+00, 2.32999992e+00,\n",
       "       1.91999996e+00, 3.19000006e+00, 2.02999997e+00, 6.29999995e-01,\n",
       "       0.00000000e+00, 0.00000000e+00, 0.00000000e+00, 0.00000000e+00,\n",
       "       3.31999993e+00, 4.71999979e+00, 1.24000001e+00, 2.29999995e+00,\n",
       "       3.27999997e+00, 1.52999997e+00, 7.67000008e+00, 1.40999997e+00,\n",
       "       6.78999996e+00, 7.09999990e+00, 4.46999979e+00, 5.51000023e+00,\n",
       "       1.02200003e+01, 4.94999981e+00, 6.80000019e+00, 6.82000017e+00,\n",
       "       7.34000015e+00, 6.84999990e+00, 6.75000000e+00, 1.06300001e+01,\n",
       "       6.82999992e+00, 6.61000013e+00, 0.00000000e+00, 6.00000024e-01,\n",
       "       1.49000001e+00, 5.13000011e+00, 6.53000021e+00, 5.67000008e+00,\n",
       "       4.94000006e+00, 6.30999994e+00, 4.80999994e+00, 9.56000042e+00,\n",
       "       3.54999995e+00, 5.03999996e+00, 0.00000000e+00, 0.00000000e+00,\n",
       "       0.00000000e+00, 0.00000000e+00, 0.00000000e+00, 0.00000000e+00,\n",
       "       0.00000000e+00, 0.00000000e+00, 0.00000000e+00, 3.95000005e+00,\n",
       "       5.23000002e+00, 3.21000004e+00, 4.01999998e+00, 3.03999996e+00,\n",
       "       4.38999987e+00, 5.09999990e+00, 3.78999996e+00, 6.25000000e+00,\n",
       "       3.18000007e+00, 3.00999999e+00, 5.09999990e+00, 7.69999981e+00,\n",
       "       7.98999977e+00, 8.22999954e+00, 1.03199997e+01, 5.63000011e+00,\n",
       "       6.84000015e+00, 9.76000023e+00, 2.39000010e+00, 2.14000010e+00,\n",
       "       5.69999993e-01, 3.97000003e+00, 2.30999994e+00, 2.17000008e+00,\n",
       "       4.23000002e+00, 8.98999977e+00, 6.40999985e+00, 2.59999990e-01,\n",
       "       4.09000015e+00, 7.40999985e+00, 6.28999996e+00, 4.78000021e+00,\n",
       "       4.51999998e+00, 1.40999997e+00, 3.99000001e+00, 3.13000011e+00,\n",
       "       5.11999989e+00, 1.50999999e+00, 2.98000002e+00, 3.86999989e+00,\n",
       "       5.32999992e+00, 3.83999991e+00, 3.09999990e+00, 4.38000011e+00,\n",
       "       4.59999990e+00, 4.92999983e+00, 5.36000013e+00, 4.71999979e+00,\n",
       "       7.51000023e+00, 5.55000019e+00, 3.68000007e+00, 2.15000010e+00,\n",
       "       9.99999978e-03, 0.00000000e+00, 0.00000000e+00, 6.23000002e+00,\n",
       "       0.00000000e+00, 1.55999994e+00, 0.00000000e+00, 6.89999998e-01,\n",
       "       0.00000000e+00, 2.99999993e-02, 1.94000006e+00, 4.19000006e+00,\n",
       "       5.34000015e+00, 9.99999978e-03, 0.00000000e+00, 0.00000000e+00,\n",
       "       1.67999995e+00, 9.99999978e-03, 3.75999999e+00, 4.57000017e+00,\n",
       "       0.00000000e+00, 0.00000000e+00, 0.00000000e+00, 0.00000000e+00,\n",
       "       0.00000000e+00, 0.00000000e+00, 9.99999978e-03, 0.00000000e+00,\n",
       "       6.15999985e+00, 1.21000004e+00, 2.50999999e+00, 4.98000002e+00,\n",
       "       1.40000001e-01, 3.78999996e+00, 6.07000017e+00, 5.46000004e+00,\n",
       "       6.26999998e+00, 5.65999985e+00, 5.51999998e+00, 6.76000023e+00,\n",
       "       5.63000011e+00, 7.34999990e+00, 6.15000010e+00, 4.40999985e+00,\n",
       "       0.00000000e+00, 0.00000000e+00, 0.00000000e+00, 0.00000000e+00,\n",
       "       0.00000000e+00, 0.00000000e+00, 0.00000000e+00, 0.00000000e+00,\n",
       "       0.00000000e+00, 1.54999995e+00, 1.74000001e+00, 3.22000003e+00,\n",
       "       2.19000006e+00, 3.63000011e+00, 2.10999990e+00, 1.63000000e+00,\n",
       "       2.83999991e+00, 4.78000021e+00, 4.61000013e+00, 3.72000003e+00,\n",
       "       2.80999994e+00, 4.44999981e+00, 4.13000011e+00, 1.89999998e-01,\n",
       "       3.52999997e+00, 2.09999990e+00, 4.07999992e+00, 5.42000008e+00,\n",
       "       4.48999977e+00, 3.75000000e+00, 5.28999996e+00, 2.76999998e+00,\n",
       "       3.64000010e+00, 4.13999987e+00, 5.84000015e+00, 8.29999983e-01,\n",
       "       5.28000021e+00, 6.15000010e+00, 5.65000010e+00, 5.80999994e+00,\n",
       "       8.38000011e+00, 9.82999992e+00, 6.36000013e+00, 5.40999985e+00,\n",
       "       6.17999983e+00, 5.34000015e+00, 6.63999987e+00, 1.13599997e+01,\n",
       "       9.02999973e+00, 5.26999998e+00, 0.00000000e+00, 8.10000038e+00,\n",
       "       1.91999996e+00, 9.90000010e-01, 5.88000011e+00, 7.38000011e+00,\n",
       "       8.00000000e+00, 1.00799999e+01, 6.48999977e+00, 3.00000000e+00,\n",
       "       3.65000010e+00, 7.76999998e+00, 2.24000001e+00, 7.86999989e+00,\n",
       "       1.11099997e+01, 7.40999985e+00, 5.55999994e+00, 6.69999981e+00,\n",
       "       8.30000019e+00, 3.35999990e+00, 3.25999999e+00, 7.84000015e+00,\n",
       "       7.38000011e+00, 2.14000010e+00, 5.61999989e+00, 1.48400002e+01,\n",
       "       0.00000000e+00, 6.38999987e+00, 7.48000002e+00, 9.36999989e+00,\n",
       "       3.66000009e+00, 6.76000023e+00, 8.14999962e+00, 0.00000000e+00,\n",
       "       5.01000023e+00, 7.21999979e+00, 0.00000000e+00, 0.00000000e+00,\n",
       "       0.00000000e+00, 0.00000000e+00, 0.00000000e+00, 0.00000000e+00,\n",
       "       0.00000000e+00, 0.00000000e+00, 0.00000000e+00, 0.00000000e+00,\n",
       "       0.00000000e+00, 0.00000000e+00, 7.79999971e-01, 1.29999995e-01,\n",
       "       0.00000000e+00, 0.00000000e+00, 0.00000000e+00, 5.17999983e+00,\n",
       "       1.42999995e+00, 1.13000000e+00, 0.00000000e+00, 6.69999981e+00,\n",
       "       8.43000031e+00, 1.00299997e+01, 2.96000004e+00, 9.99999978e-03,\n",
       "       1.02399998e+01, 9.31999969e+00, 6.98000002e+00, 8.30000019e+00,\n",
       "       8.14000034e+00, 1.28000002e+01, 7.94000006e+00, 8.25000000e+00,\n",
       "       8.86999989e+00, 9.52000046e+00, 8.26000023e+00, 6.71000004e+00,\n",
       "       8.17000008e+00, 3.90000010e+00, 7.80999994e+00, 7.34000015e+00,\n",
       "       1.12399998e+01, 1.02100000e+01, 8.07999992e+00, 9.06999969e+00,\n",
       "       9.43000031e+00, 8.44999981e+00, 6.92000008e+00, 6.78999996e+00,\n",
       "       8.14000034e+00, 4.96000004e+00, 7.67000008e+00, 1.99999996e-02,\n",
       "       1.30999994e+00, 3.86999989e+00, 4.98999977e+00, 4.73000002e+00,\n",
       "       1.08199997e+01, 6.51999998e+00, 4.67000008e+00, 3.49999994e-01,\n",
       "       3.92000008e+00, 2.59999990e-01, 1.56199999e+01, 2.01399994e+01,\n",
       "       1.32100000e+01, 1.34099998e+01, 1.24200001e+01, 1.31999998e+01,\n",
       "       9.53999996e+00, 9.14000034e+00, 7.73000002e+00, 1.27200003e+01,\n",
       "       2.09999993e-01, 0.00000000e+00, 0.00000000e+00, 0.00000000e+00,\n",
       "       0.00000000e+00, 0.00000000e+00, 1.27999997e+00, 3.42000008e+00,\n",
       "       9.14999962e+00, 3.53999996e+00, 1.67999995e+00, 1.08000004e+00,\n",
       "       0.00000000e+00, 1.12399998e+01, 2.66000009e+00, 7.26000023e+00,\n",
       "       1.10500002e+01, 1.01899996e+01, 7.23999977e+00, 7.71000004e+00,\n",
       "       6.61999989e+00, 1.77999997e+00, 2.08999991e+00, 7.01000023e+00,\n",
       "       2.56999993e+00, 1.70000005e+00, 2.73000002e+00, 1.86000001e+00,\n",
       "       2.46000004e+00, 5.32999992e+00, 1.63999999e+00, 2.20000005e+00,\n",
       "       1.10000002e+00, 2.94000006e+00, 5.40999985e+00, 4.63000011e+00,\n",
       "       2.45000005e+00, 1.49000001e+00, 1.36000001e+00, 8.29999983e-01,\n",
       "       9.39999998e-01, 6.49999976e-01, 2.95000005e+00, 1.09999999e-01,\n",
       "       9.99999978e-03, 1.58199997e+01, 2.33899994e+01, 8.18999958e+00,\n",
       "       1.84099998e+01, 8.11999989e+00, 2.09099998e+01, 8.42000008e+00,\n",
       "       2.03899994e+01, 8.06999969e+00, 2.75300007e+01, 8.06000042e+00,\n",
       "       1.77999997e+00])"
      ]
     },
     "execution_count": 12,
     "metadata": {},
     "output_type": "execute_result"
    }
   ],
   "source": [
    "y"
   ]
  },
  {
   "cell_type": "code",
   "execution_count": 13,
   "metadata": {},
   "outputs": [
    {
     "data": {
      "text/plain": [
       "array([[1503960366, '3/25/2016', 11004, ..., 12, 205, 804],\n",
       "       [1503960366, '3/26/2016', 17609, ..., 17, 274, 588],\n",
       "       [1503960366, '3/27/2016', 12736, ..., 5, 268, 605],\n",
       "       ...,\n",
       "       [8877689391, '4/10/2016', 28497, ..., 46, 211, 1055],\n",
       "       [8877689391, '4/11/2016', 10622, ..., 7, 225, 1190],\n",
       "       [8877689391, '4/12/2016', 2350, ..., 0, 58, 531]], dtype=object)"
      ]
     },
     "execution_count": 13,
     "metadata": {},
     "output_type": "execute_result"
    }
   ],
   "source": [
    "x=companies.iloc[:,:-1].values\n",
    "x"
   ]
  },
  {
   "cell_type": "code",
   "execution_count": 14,
   "metadata": {},
   "outputs": [
    {
     "data": {
      "text/html": [
       "<div>\n",
       "<style scoped>\n",
       "    .dataframe tbody tr th:only-of-type {\n",
       "        vertical-align: middle;\n",
       "    }\n",
       "\n",
       "    .dataframe tbody tr th {\n",
       "        vertical-align: top;\n",
       "    }\n",
       "\n",
       "    .dataframe thead th {\n",
       "        text-align: right;\n",
       "    }\n",
       "</style>\n",
       "<table border=\"1\" class=\"dataframe\">\n",
       "  <thead>\n",
       "    <tr style=\"text-align: right;\">\n",
       "      <th></th>\n",
       "      <th>Id</th>\n",
       "      <th>ActivityDate</th>\n",
       "      <th>TotalSteps</th>\n",
       "    </tr>\n",
       "  </thead>\n",
       "  <tbody>\n",
       "    <tr>\n",
       "      <th>0</th>\n",
       "      <td>1503960366</td>\n",
       "      <td>3/25/2016</td>\n",
       "      <td>11004</td>\n",
       "    </tr>\n",
       "    <tr>\n",
       "      <th>1</th>\n",
       "      <td>1503960366</td>\n",
       "      <td>3/26/2016</td>\n",
       "      <td>17609</td>\n",
       "    </tr>\n",
       "    <tr>\n",
       "      <th>2</th>\n",
       "      <td>1503960366</td>\n",
       "      <td>3/27/2016</td>\n",
       "      <td>12736</td>\n",
       "    </tr>\n",
       "    <tr>\n",
       "      <th>3</th>\n",
       "      <td>1503960366</td>\n",
       "      <td>3/28/2016</td>\n",
       "      <td>13231</td>\n",
       "    </tr>\n",
       "    <tr>\n",
       "      <th>4</th>\n",
       "      <td>1503960366</td>\n",
       "      <td>3/29/2016</td>\n",
       "      <td>12041</td>\n",
       "    </tr>\n",
       "    <tr>\n",
       "      <th>...</th>\n",
       "      <td>...</td>\n",
       "      <td>...</td>\n",
       "      <td>...</td>\n",
       "    </tr>\n",
       "    <tr>\n",
       "      <th>452</th>\n",
       "      <td>8877689391</td>\n",
       "      <td>4/8/2016</td>\n",
       "      <td>23014</td>\n",
       "    </tr>\n",
       "    <tr>\n",
       "      <th>453</th>\n",
       "      <td>8877689391</td>\n",
       "      <td>4/9/2016</td>\n",
       "      <td>16470</td>\n",
       "    </tr>\n",
       "    <tr>\n",
       "      <th>454</th>\n",
       "      <td>8877689391</td>\n",
       "      <td>4/10/2016</td>\n",
       "      <td>28497</td>\n",
       "    </tr>\n",
       "    <tr>\n",
       "      <th>455</th>\n",
       "      <td>8877689391</td>\n",
       "      <td>4/11/2016</td>\n",
       "      <td>10622</td>\n",
       "    </tr>\n",
       "    <tr>\n",
       "      <th>456</th>\n",
       "      <td>8877689391</td>\n",
       "      <td>4/12/2016</td>\n",
       "      <td>2350</td>\n",
       "    </tr>\n",
       "  </tbody>\n",
       "</table>\n",
       "<p>457 rows × 3 columns</p>\n",
       "</div>"
      ],
      "text/plain": [
       "             Id ActivityDate  TotalSteps\n",
       "0    1503960366    3/25/2016       11004\n",
       "1    1503960366    3/26/2016       17609\n",
       "2    1503960366    3/27/2016       12736\n",
       "3    1503960366    3/28/2016       13231\n",
       "4    1503960366    3/29/2016       12041\n",
       "..          ...          ...         ...\n",
       "452  8877689391     4/8/2016       23014\n",
       "453  8877689391     4/9/2016       16470\n",
       "454  8877689391    4/10/2016       28497\n",
       "455  8877689391    4/11/2016       10622\n",
       "456  8877689391    4/12/2016        2350\n",
       "\n",
       "[457 rows x 3 columns]"
      ]
     },
     "execution_count": 14,
     "metadata": {},
     "output_type": "execute_result"
    }
   ],
   "source": [
    "x=companies.iloc[:,:3]\n",
    "x"
   ]
  },
  {
   "cell_type": "code",
   "execution_count": 10,
   "metadata": {},
   "outputs": [
    {
     "data": {
      "text/plain": [
       "array([7.11000013e+00, 1.15500002e+01, 8.52999973e+00, 8.93000031e+00,\n",
       "       7.84999990e+00, 7.15999985e+00, 7.86000013e+00, 7.86999989e+00,\n",
       "       7.25000000e+00, 6.36999989e+00, 9.80000019e+00, 9.72999954e+00,\n",
       "       7.67000008e+00, 6.44000006e+00, 7.94000006e+00, 8.10000038e+00,\n",
       "       6.98000002e+00, 7.26000023e+00, 1.40000001e-01, 1.17999995e+00,\n",
       "       5.29999971e-01, 1.28999996e+00, 1.24000001e+00, 1.00999999e+00,\n",
       "       1.09000003e+00, 2.93000007e+00, 5.98999977e+00, 1.00999999e+00,\n",
       "       1.88999999e+00, 1.20000000e+01, 8.70000005e-01, 6.49999976e-01,\n",
       "       7.20000029e-01, 4.11999989e+00, 2.31999993e+00, 2.53999996e+00,\n",
       "       6.50000000e+00, 4.30999994e+00, 3.41000009e+00, 1.47100000e+01,\n",
       "       9.40999985e+00, 2.04999995e+00, 7.21000004e+00, 5.84999990e+00,\n",
       "       8.11999989e+00, 5.69999981e+00, 1.00600004e+01, 9.70000029e-01,\n",
       "       4.53000021e+00, 3.54999995e+00, 1.88000000e+00, 0.00000000e+00,\n",
       "       0.00000000e+00, 0.00000000e+00, 4.19000006e+00, 3.50999999e+00,\n",
       "       3.28999996e+00, 4.34000015e+00, 3.58999991e+00, 0.00000000e+00,\n",
       "       2.99000001e+00, 3.92000008e+00, 2.21000004e+00, 1.63000000e+00,\n",
       "       1.54999995e+00, 8.70000005e-01, 5.29999971e-01, 3.60000014e-01,\n",
       "       1.75000000e+00, 1.46000004e+00, 8.39999974e-01, 1.99999996e-02,\n",
       "       9.60000038e+00, 3.83999991e+00, 7.82000017e+00, 1.10000000e+01,\n",
       "       7.59000015e+00, 1.09300003e+01, 1.38299999e+01, 9.26000023e+00,\n",
       "       1.25900002e+01, 7.01999998e+00, 7.09000015e+00, 4.71999979e+00,\n",
       "       1.62000000e+00, 7.59999990e-01, 1.42999995e+00, 4.13999987e+00,\n",
       "       3.50000000e+00, 1.97000003e+00, 1.72000003e+00, 2.32999992e+00,\n",
       "       1.91999996e+00, 3.19000006e+00, 2.02999997e+00, 6.29999995e-01,\n",
       "       0.00000000e+00, 0.00000000e+00, 0.00000000e+00, 0.00000000e+00,\n",
       "       3.31999993e+00, 4.71999979e+00, 1.24000001e+00, 2.29999995e+00,\n",
       "       3.27999997e+00, 1.52999997e+00, 7.67000008e+00, 1.40999997e+00,\n",
       "       6.78999996e+00, 7.09999990e+00, 4.46999979e+00, 5.51000023e+00,\n",
       "       1.02200003e+01, 4.94999981e+00, 6.80000019e+00, 6.82000017e+00,\n",
       "       7.34000015e+00, 6.84999990e+00, 6.75000000e+00, 1.06300001e+01,\n",
       "       6.82999992e+00, 6.61000013e+00, 0.00000000e+00, 6.00000024e-01,\n",
       "       1.49000001e+00, 5.13000011e+00, 6.53000021e+00, 5.67000008e+00,\n",
       "       4.94000006e+00, 6.30999994e+00, 4.80999994e+00, 9.56000042e+00,\n",
       "       3.54999995e+00, 5.03999996e+00, 0.00000000e+00, 0.00000000e+00,\n",
       "       0.00000000e+00, 0.00000000e+00, 0.00000000e+00, 0.00000000e+00,\n",
       "       0.00000000e+00, 0.00000000e+00, 0.00000000e+00, 3.95000005e+00,\n",
       "       5.23000002e+00, 3.21000004e+00, 4.01999998e+00, 3.03999996e+00,\n",
       "       4.38999987e+00, 5.09999990e+00, 3.78999996e+00, 6.25000000e+00,\n",
       "       3.18000007e+00, 3.00999999e+00, 5.09999990e+00, 7.69999981e+00,\n",
       "       7.98999977e+00, 8.22999954e+00, 1.03199997e+01, 5.63000011e+00,\n",
       "       6.84000015e+00, 9.76000023e+00, 2.39000010e+00, 2.14000010e+00,\n",
       "       5.69999993e-01, 3.97000003e+00, 2.30999994e+00, 2.17000008e+00,\n",
       "       4.23000002e+00, 8.98999977e+00, 6.40999985e+00, 2.59999990e-01,\n",
       "       4.09000015e+00, 7.40999985e+00, 6.28999996e+00, 4.78000021e+00,\n",
       "       4.51999998e+00, 1.40999997e+00, 3.99000001e+00, 3.13000011e+00,\n",
       "       5.11999989e+00, 1.50999999e+00, 2.98000002e+00, 3.86999989e+00,\n",
       "       5.32999992e+00, 3.83999991e+00, 3.09999990e+00, 4.38000011e+00,\n",
       "       4.59999990e+00, 4.92999983e+00, 5.36000013e+00, 4.71999979e+00,\n",
       "       7.51000023e+00, 5.55000019e+00, 3.68000007e+00, 2.15000010e+00,\n",
       "       9.99999978e-03, 0.00000000e+00, 0.00000000e+00, 6.23000002e+00,\n",
       "       0.00000000e+00, 1.55999994e+00, 0.00000000e+00, 6.89999998e-01,\n",
       "       0.00000000e+00, 2.99999993e-02, 1.94000006e+00, 4.19000006e+00,\n",
       "       5.34000015e+00, 9.99999978e-03, 0.00000000e+00, 0.00000000e+00,\n",
       "       1.67999995e+00, 9.99999978e-03, 3.75999999e+00, 4.57000017e+00,\n",
       "       0.00000000e+00, 0.00000000e+00, 0.00000000e+00, 0.00000000e+00,\n",
       "       0.00000000e+00, 0.00000000e+00, 9.99999978e-03, 0.00000000e+00,\n",
       "       6.15999985e+00, 1.21000004e+00, 2.50999999e+00, 4.98000002e+00,\n",
       "       1.40000001e-01, 3.78999996e+00, 6.07000017e+00, 5.46000004e+00,\n",
       "       6.26999998e+00, 5.65999985e+00, 5.51999998e+00, 6.76000023e+00,\n",
       "       5.63000011e+00, 7.34999990e+00, 6.15000010e+00, 4.40999985e+00,\n",
       "       0.00000000e+00, 0.00000000e+00, 0.00000000e+00, 0.00000000e+00,\n",
       "       0.00000000e+00, 0.00000000e+00, 0.00000000e+00, 0.00000000e+00,\n",
       "       0.00000000e+00, 1.54999995e+00, 1.74000001e+00, 3.22000003e+00,\n",
       "       2.19000006e+00, 3.63000011e+00, 2.10999990e+00, 1.63000000e+00,\n",
       "       2.83999991e+00, 4.78000021e+00, 4.61000013e+00, 3.72000003e+00,\n",
       "       2.80999994e+00, 4.44999981e+00, 4.13000011e+00, 1.89999998e-01,\n",
       "       3.52999997e+00, 2.09999990e+00, 4.07999992e+00, 5.42000008e+00,\n",
       "       4.48999977e+00, 3.75000000e+00, 5.28999996e+00, 2.76999998e+00,\n",
       "       3.64000010e+00, 4.13999987e+00, 5.84000015e+00, 8.29999983e-01,\n",
       "       5.28000021e+00, 6.15000010e+00, 5.65000010e+00, 5.80999994e+00,\n",
       "       8.38000011e+00, 9.82999992e+00, 6.36000013e+00, 5.40999985e+00,\n",
       "       6.17999983e+00, 5.34000015e+00, 6.63999987e+00, 1.13599997e+01,\n",
       "       9.02999973e+00, 5.26999998e+00, 0.00000000e+00, 8.10000038e+00,\n",
       "       1.91999996e+00, 9.90000010e-01, 5.88000011e+00, 7.38000011e+00,\n",
       "       8.00000000e+00, 1.00799999e+01, 6.48999977e+00, 3.00000000e+00,\n",
       "       3.65000010e+00, 7.76999998e+00, 2.24000001e+00, 7.86999989e+00,\n",
       "       1.11099997e+01, 7.40999985e+00, 5.55999994e+00, 6.69999981e+00,\n",
       "       8.30000019e+00, 3.35999990e+00, 3.25999999e+00, 7.84000015e+00,\n",
       "       7.38000011e+00, 2.14000010e+00, 5.61999989e+00, 1.48400002e+01,\n",
       "       0.00000000e+00, 6.38999987e+00, 7.48000002e+00, 9.36999989e+00,\n",
       "       3.66000009e+00, 6.76000023e+00, 8.14999962e+00, 0.00000000e+00,\n",
       "       5.01000023e+00, 7.21999979e+00, 0.00000000e+00, 0.00000000e+00,\n",
       "       0.00000000e+00, 0.00000000e+00, 0.00000000e+00, 0.00000000e+00,\n",
       "       0.00000000e+00, 0.00000000e+00, 0.00000000e+00, 0.00000000e+00,\n",
       "       0.00000000e+00, 0.00000000e+00, 7.79999971e-01, 1.29999995e-01,\n",
       "       0.00000000e+00, 0.00000000e+00, 0.00000000e+00, 5.17999983e+00,\n",
       "       1.42999995e+00, 1.13000000e+00, 0.00000000e+00, 6.69999981e+00,\n",
       "       8.43000031e+00, 1.00299997e+01, 2.96000004e+00, 9.99999978e-03,\n",
       "       1.02399998e+01, 9.31999969e+00, 6.98000002e+00, 8.30000019e+00,\n",
       "       8.14000034e+00, 1.28000002e+01, 7.94000006e+00, 8.25000000e+00,\n",
       "       8.86999989e+00, 9.52000046e+00, 8.26000023e+00, 6.71000004e+00,\n",
       "       8.17000008e+00, 3.90000010e+00, 7.80999994e+00, 7.34000015e+00,\n",
       "       1.12399998e+01, 1.02100000e+01, 8.07999992e+00, 9.06999969e+00,\n",
       "       9.43000031e+00, 8.44999981e+00, 6.92000008e+00, 6.78999996e+00,\n",
       "       8.14000034e+00, 4.96000004e+00, 7.67000008e+00, 1.99999996e-02,\n",
       "       1.30999994e+00, 3.86999989e+00, 4.98999977e+00, 4.73000002e+00,\n",
       "       1.08199997e+01, 6.51999998e+00, 4.67000008e+00, 3.49999994e-01,\n",
       "       3.92000008e+00, 2.59999990e-01, 1.56199999e+01, 2.01399994e+01,\n",
       "       1.32100000e+01, 1.34099998e+01, 1.24200001e+01, 1.31999998e+01,\n",
       "       9.53999996e+00, 9.14000034e+00, 7.73000002e+00, 1.27200003e+01,\n",
       "       2.09999993e-01, 0.00000000e+00, 0.00000000e+00, 0.00000000e+00,\n",
       "       0.00000000e+00, 0.00000000e+00, 1.27999997e+00, 3.42000008e+00,\n",
       "       9.14999962e+00, 3.53999996e+00, 1.67999995e+00, 1.08000004e+00,\n",
       "       0.00000000e+00, 1.12399998e+01, 2.66000009e+00, 7.26000023e+00,\n",
       "       1.10500002e+01, 1.01899996e+01, 7.23999977e+00, 7.71000004e+00,\n",
       "       6.61999989e+00, 1.77999997e+00, 2.08999991e+00, 7.01000023e+00,\n",
       "       2.56999993e+00, 1.70000005e+00, 2.73000002e+00, 1.86000001e+00,\n",
       "       2.46000004e+00, 5.32999992e+00, 1.63999999e+00, 2.20000005e+00,\n",
       "       1.10000002e+00, 2.94000006e+00, 5.40999985e+00, 4.63000011e+00,\n",
       "       2.45000005e+00, 1.49000001e+00, 1.36000001e+00, 8.29999983e-01,\n",
       "       9.39999998e-01, 6.49999976e-01, 2.95000005e+00, 1.09999999e-01,\n",
       "       9.99999978e-03, 1.58199997e+01, 2.33899994e+01, 8.18999958e+00,\n",
       "       1.84099998e+01, 8.11999989e+00, 2.09099998e+01, 8.42000008e+00,\n",
       "       2.03899994e+01, 8.06999969e+00, 2.75300007e+01, 8.06000042e+00,\n",
       "       1.77999997e+00])"
      ]
     },
     "execution_count": 10,
     "metadata": {},
     "output_type": "execute_result"
    }
   ],
   "source": [
    "y=companies.iloc[:,4].values\n",
    "y"
   ]
  },
  {
   "cell_type": "code",
   "execution_count": 11,
   "metadata": {},
   "outputs": [
    {
     "ename": "TypeError",
     "evalue": "'(slice(2, None, None), slice(None, 3, None))' is an invalid key",
     "output_type": "error",
     "traceback": [
      "\u001b[1;31m---------------------------------------------------------------------------\u001b[0m",
      "\u001b[1;31mTypeError\u001b[0m                                 Traceback (most recent call last)",
      "\u001b[1;32m<ipython-input-11-38eccb4025dc>\u001b[0m in \u001b[0;36m<module>\u001b[1;34m\u001b[0m\n\u001b[1;32m----> 1\u001b[1;33m \u001b[0mx\u001b[0m\u001b[1;33m=\u001b[0m\u001b[0mcompanies\u001b[0m\u001b[1;33m[\u001b[0m\u001b[1;36m2\u001b[0m\u001b[1;33m:\u001b[0m\u001b[1;33m,\u001b[0m\u001b[1;33m:\u001b[0m\u001b[1;36m3\u001b[0m\u001b[1;33m]\u001b[0m\u001b[1;33m\u001b[0m\u001b[1;33m\u001b[0m\u001b[0m\n\u001b[0m\u001b[0;32m      2\u001b[0m \u001b[0mx\u001b[0m\u001b[1;33m\u001b[0m\u001b[1;33m\u001b[0m\u001b[0m\n",
      "\u001b[1;32m~\\anaconda3\\lib\\site-packages\\pandas\\core\\frame.py\u001b[0m in \u001b[0;36m__getitem__\u001b[1;34m(self, key)\u001b[0m\n\u001b[0;32m   2900\u001b[0m             \u001b[1;32mif\u001b[0m \u001b[0mself\u001b[0m\u001b[1;33m.\u001b[0m\u001b[0mcolumns\u001b[0m\u001b[1;33m.\u001b[0m\u001b[0mnlevels\u001b[0m \u001b[1;33m>\u001b[0m \u001b[1;36m1\u001b[0m\u001b[1;33m:\u001b[0m\u001b[1;33m\u001b[0m\u001b[1;33m\u001b[0m\u001b[0m\n\u001b[0;32m   2901\u001b[0m                 \u001b[1;32mreturn\u001b[0m \u001b[0mself\u001b[0m\u001b[1;33m.\u001b[0m\u001b[0m_getitem_multilevel\u001b[0m\u001b[1;33m(\u001b[0m\u001b[0mkey\u001b[0m\u001b[1;33m)\u001b[0m\u001b[1;33m\u001b[0m\u001b[1;33m\u001b[0m\u001b[0m\n\u001b[1;32m-> 2902\u001b[1;33m             \u001b[0mindexer\u001b[0m \u001b[1;33m=\u001b[0m \u001b[0mself\u001b[0m\u001b[1;33m.\u001b[0m\u001b[0mcolumns\u001b[0m\u001b[1;33m.\u001b[0m\u001b[0mget_loc\u001b[0m\u001b[1;33m(\u001b[0m\u001b[0mkey\u001b[0m\u001b[1;33m)\u001b[0m\u001b[1;33m\u001b[0m\u001b[1;33m\u001b[0m\u001b[0m\n\u001b[0m\u001b[0;32m   2903\u001b[0m             \u001b[1;32mif\u001b[0m \u001b[0mis_integer\u001b[0m\u001b[1;33m(\u001b[0m\u001b[0mindexer\u001b[0m\u001b[1;33m)\u001b[0m\u001b[1;33m:\u001b[0m\u001b[1;33m\u001b[0m\u001b[1;33m\u001b[0m\u001b[0m\n\u001b[0;32m   2904\u001b[0m                 \u001b[0mindexer\u001b[0m \u001b[1;33m=\u001b[0m \u001b[1;33m[\u001b[0m\u001b[0mindexer\u001b[0m\u001b[1;33m]\u001b[0m\u001b[1;33m\u001b[0m\u001b[1;33m\u001b[0m\u001b[0m\n",
      "\u001b[1;32m~\\anaconda3\\lib\\site-packages\\pandas\\core\\indexes\\base.py\u001b[0m in \u001b[0;36mget_loc\u001b[1;34m(self, key, method, tolerance)\u001b[0m\n\u001b[0;32m   2893\u001b[0m             \u001b[0mcasted_key\u001b[0m \u001b[1;33m=\u001b[0m \u001b[0mself\u001b[0m\u001b[1;33m.\u001b[0m\u001b[0m_maybe_cast_indexer\u001b[0m\u001b[1;33m(\u001b[0m\u001b[0mkey\u001b[0m\u001b[1;33m)\u001b[0m\u001b[1;33m\u001b[0m\u001b[1;33m\u001b[0m\u001b[0m\n\u001b[0;32m   2894\u001b[0m             \u001b[1;32mtry\u001b[0m\u001b[1;33m:\u001b[0m\u001b[1;33m\u001b[0m\u001b[1;33m\u001b[0m\u001b[0m\n\u001b[1;32m-> 2895\u001b[1;33m                 \u001b[1;32mreturn\u001b[0m \u001b[0mself\u001b[0m\u001b[1;33m.\u001b[0m\u001b[0m_engine\u001b[0m\u001b[1;33m.\u001b[0m\u001b[0mget_loc\u001b[0m\u001b[1;33m(\u001b[0m\u001b[0mcasted_key\u001b[0m\u001b[1;33m)\u001b[0m\u001b[1;33m\u001b[0m\u001b[1;33m\u001b[0m\u001b[0m\n\u001b[0m\u001b[0;32m   2896\u001b[0m             \u001b[1;32mexcept\u001b[0m \u001b[0mKeyError\u001b[0m \u001b[1;32mas\u001b[0m \u001b[0merr\u001b[0m\u001b[1;33m:\u001b[0m\u001b[1;33m\u001b[0m\u001b[1;33m\u001b[0m\u001b[0m\n\u001b[0;32m   2897\u001b[0m                 \u001b[1;32mraise\u001b[0m \u001b[0mKeyError\u001b[0m\u001b[1;33m(\u001b[0m\u001b[0mkey\u001b[0m\u001b[1;33m)\u001b[0m \u001b[1;32mfrom\u001b[0m \u001b[0merr\u001b[0m\u001b[1;33m\u001b[0m\u001b[1;33m\u001b[0m\u001b[0m\n",
      "\u001b[1;32mpandas\\_libs\\index.pyx\u001b[0m in \u001b[0;36mpandas._libs.index.IndexEngine.get_loc\u001b[1;34m()\u001b[0m\n",
      "\u001b[1;32mpandas\\_libs\\index.pyx\u001b[0m in \u001b[0;36mpandas._libs.index.IndexEngine.get_loc\u001b[1;34m()\u001b[0m\n",
      "\u001b[1;31mTypeError\u001b[0m: '(slice(2, None, None), slice(None, 3, None))' is an invalid key"
     ]
    }
   ],
   "source": [
    "x=companies[2:,:3]\n",
    "x"
   ]
  },
  {
   "cell_type": "code",
   "execution_count": 12,
   "metadata": {},
   "outputs": [
    {
     "data": {
      "text/html": [
       "<div>\n",
       "<style scoped>\n",
       "    .dataframe tbody tr th:only-of-type {\n",
       "        vertical-align: middle;\n",
       "    }\n",
       "\n",
       "    .dataframe tbody tr th {\n",
       "        vertical-align: top;\n",
       "    }\n",
       "\n",
       "    .dataframe thead th {\n",
       "        text-align: right;\n",
       "    }\n",
       "</style>\n",
       "<table border=\"1\" class=\"dataframe\">\n",
       "  <thead>\n",
       "    <tr style=\"text-align: right;\">\n",
       "      <th></th>\n",
       "      <th>Id</th>\n",
       "      <th>ActivityDate</th>\n",
       "      <th>TotalSteps</th>\n",
       "    </tr>\n",
       "  </thead>\n",
       "  <tbody>\n",
       "    <tr>\n",
       "      <th>0</th>\n",
       "      <td>1503960366</td>\n",
       "      <td>3/25/2016</td>\n",
       "      <td>11004</td>\n",
       "    </tr>\n",
       "    <tr>\n",
       "      <th>1</th>\n",
       "      <td>1503960366</td>\n",
       "      <td>3/26/2016</td>\n",
       "      <td>17609</td>\n",
       "    </tr>\n",
       "  </tbody>\n",
       "</table>\n",
       "</div>"
      ],
      "text/plain": [
       "           Id ActivityDate  TotalSteps\n",
       "0  1503960366    3/25/2016       11004\n",
       "1  1503960366    3/26/2016       17609"
      ]
     },
     "execution_count": 12,
     "metadata": {},
     "output_type": "execute_result"
    }
   ],
   "source": [
    "x=companies.iloc[:2,:3]\n",
    "x"
   ]
  },
  {
   "cell_type": "code",
   "execution_count": 13,
   "metadata": {},
   "outputs": [
    {
     "data": {
      "text/plain": [
       "array([[1503960366, '3/25/2016', 11004],\n",
       "       [1503960366, '3/26/2016', 17609]], dtype=object)"
      ]
     },
     "execution_count": 13,
     "metadata": {},
     "output_type": "execute_result"
    }
   ],
   "source": [
    "x=companies.iloc[:2,:3].values\n",
    "x"
   ]
  },
  {
   "cell_type": "code",
   "execution_count": 19,
   "metadata": {},
   "outputs": [
    {
     "data": {
      "text/plain": [
       "<AxesSubplot:>"
      ]
     },
     "execution_count": 19,
     "metadata": {},
     "output_type": "execute_result"
    },
    {
     "data": {
      "image/png": "[encoded data removed]",
      "text/plain": [
       "<Figure size 432x288 with 2 Axes>"
      ]
     },
     "metadata": {
      "needs_background": "light"
     },
     "output_type": "display_data"
    }
   ],
   "source": [
    "sns.heatmap(companies.corr())"
   ]
  },
  {
   "cell_type": "code",
   "execution_count": 14,
   "metadata": {
    "scrolled": false
   },
   "outputs": [
    {
     "data": {
      "text/plain": [
       "array([1819, 2154, 1944, 1932, 1886, 1820, 1889, 1868, 1843, 1850, 2030,\n",
       "       2083, 1861, 1755, 1895, 1883, 1755, 1811,   50, 1373, 1264, 1350,\n",
       "       1342, 1300, 1313, 1498, 1541, 1327, 1452, 1574, 1308, 1276, 1278,\n",
       "       1409, 1370, 1555, 1469,  706, 3323, 4029, 3436, 2444, 3098, 2925,\n",
       "       3202, 2928, 3290,  489, 1969, 1889, 1636, 1347, 1347, 1349, 1965,\n",
       "       1824, 1807, 1971, 1888,  399, 2590, 2783, 2449, 2380, 2344, 2202,\n",
       "       2130, 2088, 2443, 2442, 2255,  942, 2645, 2040, 2395, 2581, 2735,\n",
       "       2733, 3021, 2577, 2811, 2458, 2568, 1140, 1407, 1237, 1330, 1583,\n",
       "       1538, 1421, 1392, 1425, 1413, 1515, 1405,  600, 1324, 1324, 1324,\n",
       "       1324, 1708, 1950, 1508, 1625, 1772, 1530, 2206,  790, 2041, 2187,\n",
       "       1929, 1935, 2438, 2035, 2099, 2096, 2058, 2338, 2104, 2488, 2164,\n",
       "       2009,  399, 1335, 1559, 1845, 2046, 1953, 1910, 2035, 1944, 2257,\n",
       "       1724, 1741,    0, 1920, 1920, 1920, 4562, 2881, 1920, 1920, 1144,\n",
       "       1852, 2069, 1816, 1878, 1787, 2010, 2038, 1815, 2062, 1276, 1288,\n",
       "       1490, 1630, 1648, 1649, 1783, 1431, 1524, 1697, 1232, 1223,  182,\n",
       "       2990, 2480, 2570, 3016, 3830, 3706, 2024, 2980, 3728, 3348, 3162,\n",
       "       3140, 1980, 3681, 3444, 3510, 4010, 2976, 3418, 3439, 3338, 2892,\n",
       "       3313, 3118, 2966, 3253, 3032, 4034, 3264, 2817, 2507,  446, 1777,\n",
       "       1777, 2453, 1776, 1935, 1776, 1870, 1777, 1782, 1978, 2296, 2484,\n",
       "       1787, 1776, 1776, 2005, 1778, 2293, 2259, 1776, 1776, 1776, 1776,\n",
       "       1776, 1776, 1780, 1778, 2360, 1952, 2101, 2393,  538, 1958, 2141,\n",
       "       2129, 2216, 2154, 2178, 2308, 2201, 2341, 2236, 2069,    0, 1878,\n",
       "       1878, 1878, 1878, 1878, 1878, 1878, 1296, 2010, 2032, 2227, 2133,\n",
       "       2317, 2058, 1935, 2217, 2374, 2335, 2303, 2210, 2424, 2297,  745,\n",
       "       1902, 1680, 1901, 2078, 1876, 1853, 2235, 1778, 1882, 1906, 2149,\n",
       "        722, 2886, 2915, 2895, 2923, 3323, 3357, 2931, 2848, 2943, 2822,\n",
       "       2981, 3597, 3224, 2677,    0, 2142, 1615, 1481, 1892, 2086, 2044,\n",
       "       2249, 2019, 1692, 1712, 2065,  633, 3625, 4430, 3427, 3492, 3597,\n",
       "       3765, 2775, 2486, 3817, 3378, 1511, 2210, 2884, 1496, 2262, 2445,\n",
       "       2694, 1903, 2482, 2617,    0, 2778, 3119, 2664, 2060, 2060, 2060,\n",
       "       2060, 2060, 2060,  735, 1820, 2224, 1820, 1820, 2442, 1849, 1822,\n",
       "       1820,  251, 3065, 2207, 1977, 1841, 4286, 3920, 3856, 2584,  787,\n",
       "       2244, 2188, 2014, 2115, 2055, 2437, 2158, 2170, 2244, 2188, 2231,\n",
       "       2100, 2188,  917, 2573, 2575, 3086, 2886, 2676, 2811, 2840, 2871,\n",
       "       2613, 2700, 2871, 1023, 2496, 1641, 1794, 2421, 2439, 2233, 2862,\n",
       "       2752, 2519, 1799, 2543,  625, 3377, 3697, 3209, 3167, 3122, 3176,\n",
       "       2790, 2715, 2684, 3097,  791, 1429, 1429, 1429, 1429, 1429, 1607,\n",
       "       1776, 2162, 1832, 1657, 1377,    0, 3669, 2702, 3304, 4234, 4128,\n",
       "       3798, 3839, 3713, 2606, 2624, 3775, 1882, 2360, 2517, 2400, 2462,\n",
       "       2786, 2354, 2437, 1814, 2260, 3004, 2667, 2229, 2100, 2114, 1961,\n",
       "       1953, 1890, 2253, 1725,  728, 3527, 4220, 3864, 3662, 2834, 4039,\n",
       "       2947, 4196, 3841, 4526, 2820,  938], dtype=int64)"
      ]
     },
     "execution_count": 14,
     "metadata": {},
     "output_type": "execute_result"
    }
   ],
   "source": [
    "x=companies.iloc[:,14].values\n",
    "x"
   ]
  },
  {
   "cell_type": "code",
   "execution_count": 27,
   "metadata": {
    "scrolled": false
   },
   "outputs": [
    {
     "data": {
      "text/plain": [
       "array([7.11000013e+00, 1.15500002e+01, 8.52999973e+00, 8.93000031e+00,\n",
       "       7.84999990e+00, 7.15999985e+00, 7.86000013e+00, 7.86999989e+00,\n",
       "       7.25000000e+00, 6.36999989e+00, 9.80000019e+00, 9.72999954e+00,\n",
       "       7.67000008e+00, 6.44000006e+00, 7.94000006e+00, 8.10000038e+00,\n",
       "       6.98000002e+00, 7.26000023e+00, 1.40000001e-01, 1.17999995e+00,\n",
       "       5.29999971e-01, 1.28999996e+00, 1.24000001e+00, 1.00999999e+00,\n",
       "       1.09000003e+00, 2.93000007e+00, 5.98999977e+00, 1.00999999e+00,\n",
       "       1.88999999e+00, 1.20000000e+01, 8.70000005e-01, 6.49999976e-01,\n",
       "       7.20000029e-01, 4.11999989e+00, 2.31999993e+00, 2.53999996e+00,\n",
       "       6.50000000e+00, 4.30999994e+00, 3.41000009e+00, 1.47100000e+01,\n",
       "       9.40999985e+00, 2.04999995e+00, 7.21000004e+00, 5.84999990e+00,\n",
       "       8.11999989e+00, 5.69999981e+00, 1.00600004e+01, 9.70000029e-01,\n",
       "       4.53000021e+00, 3.54999995e+00, 1.88000000e+00, 0.00000000e+00,\n",
       "       0.00000000e+00, 0.00000000e+00, 4.19000006e+00, 3.50999999e+00,\n",
       "       3.28999996e+00, 4.34000015e+00, 3.58999991e+00, 0.00000000e+00,\n",
       "       2.99000001e+00, 3.92000008e+00, 2.21000004e+00, 1.63000000e+00,\n",
       "       1.54999995e+00, 8.70000005e-01, 5.29999971e-01, 3.60000014e-01,\n",
       "       1.75000000e+00, 1.46000004e+00, 8.39999974e-01, 1.99999996e-02,\n",
       "       9.60000038e+00, 3.83999991e+00, 7.82000017e+00, 1.10000000e+01,\n",
       "       7.59000015e+00, 1.09300003e+01, 1.38299999e+01, 9.26000023e+00,\n",
       "       1.25900002e+01, 7.01999998e+00, 7.09000015e+00, 4.71999979e+00,\n",
       "       1.62000000e+00, 7.59999990e-01, 1.42999995e+00, 4.13999987e+00,\n",
       "       3.50000000e+00, 1.97000003e+00, 1.72000003e+00, 2.32999992e+00,\n",
       "       1.91999996e+00, 3.19000006e+00, 2.02999997e+00, 6.29999995e-01,\n",
       "       0.00000000e+00, 0.00000000e+00, 0.00000000e+00, 0.00000000e+00,\n",
       "       3.31999993e+00, 4.71999979e+00, 1.24000001e+00, 2.29999995e+00,\n",
       "       3.27999997e+00, 1.52999997e+00, 7.67000008e+00, 1.40999997e+00,\n",
       "       6.78999996e+00, 7.09999990e+00, 4.46999979e+00, 5.51000023e+00,\n",
       "       1.02200003e+01, 4.94999981e+00, 6.80000019e+00, 6.82000017e+00,\n",
       "       7.34000015e+00, 6.84999990e+00, 6.75000000e+00, 1.06300001e+01,\n",
       "       6.82999992e+00, 6.61000013e+00, 0.00000000e+00, 6.00000024e-01,\n",
       "       1.49000001e+00, 5.13000011e+00, 6.53000021e+00, 5.67000008e+00,\n",
       "       4.94000006e+00, 6.30999994e+00, 4.80999994e+00, 9.56000042e+00,\n",
       "       3.54999995e+00, 5.03999996e+00, 0.00000000e+00, 0.00000000e+00,\n",
       "       0.00000000e+00, 0.00000000e+00, 0.00000000e+00, 3.22000003e+00,\n",
       "       0.00000000e+00, 0.00000000e+00, 1.61000001e+00, 3.95000005e+00,\n",
       "       5.23000002e+00, 3.21000004e+00, 4.01999998e+00, 3.03999996e+00,\n",
       "       4.38999987e+00, 5.09999990e+00, 3.78999996e+00, 6.25000000e+00,\n",
       "       3.18000007e+00, 3.00999999e+00, 5.09999990e+00, 7.69999981e+00,\n",
       "       7.98999977e+00, 8.22999954e+00, 1.03199997e+01, 5.63000011e+00,\n",
       "       6.84000015e+00, 9.76000023e+00, 2.39000010e+00, 2.14000010e+00,\n",
       "       5.69999993e-01, 3.97000003e+00, 2.30999994e+00, 2.17000008e+00,\n",
       "       4.23000002e+00, 8.98999977e+00, 6.40999985e+00, 2.59999990e-01,\n",
       "       4.09000015e+00, 7.40999985e+00, 6.28999996e+00, 4.78000021e+00,\n",
       "       4.51999998e+00, 1.40999997e+00, 3.99000001e+00, 3.13000011e+00,\n",
       "       5.11999989e+00, 1.50999999e+00, 2.98000002e+00, 3.86999989e+00,\n",
       "       5.32999992e+00, 3.83999991e+00, 3.09999990e+00, 4.38000011e+00,\n",
       "       4.59999990e+00, 4.92999983e+00, 5.36000013e+00, 4.71999979e+00,\n",
       "       7.51000023e+00, 5.55000019e+00, 3.68000007e+00, 2.15000010e+00,\n",
       "       9.99999978e-03, 0.00000000e+00, 0.00000000e+00, 6.23000002e+00,\n",
       "       0.00000000e+00, 1.55999994e+00, 0.00000000e+00, 6.89999998e-01,\n",
       "       0.00000000e+00, 2.99999993e-02, 1.94000006e+00, 4.19000006e+00,\n",
       "       5.34000015e+00, 9.99999978e-03, 0.00000000e+00, 0.00000000e+00,\n",
       "       1.67999995e+00, 9.99999978e-03, 3.75999999e+00, 4.00000000e+00,\n",
       "       0.00000000e+00, 0.00000000e+00, 0.00000000e+00, 0.00000000e+00,\n",
       "       0.00000000e+00, 0.00000000e+00, 9.99999978e-03, 0.00000000e+00,\n",
       "       6.15999985e+00, 1.21000004e+00, 2.50999999e+00, 4.98000002e+00,\n",
       "       1.40000001e-01, 3.78999996e+00, 6.07000017e+00, 5.46000004e+00,\n",
       "       6.26999998e+00, 5.65999985e+00, 5.51999998e+00, 6.76000023e+00,\n",
       "       5.63000011e+00, 7.34999990e+00, 6.15000010e+00, 4.40999985e+00,\n",
       "       0.00000000e+00, 0.00000000e+00, 0.00000000e+00, 0.00000000e+00,\n",
       "       0.00000000e+00, 0.00000000e+00, 0.00000000e+00, 0.00000000e+00,\n",
       "       0.00000000e+00, 1.54999995e+00, 1.74000001e+00, 3.22000003e+00,\n",
       "       2.19000006e+00, 3.63000011e+00, 2.10999990e+00, 1.63000000e+00,\n",
       "       2.83999991e+00, 4.78000021e+00, 4.61000013e+00, 3.72000003e+00,\n",
       "       2.80999994e+00, 4.44999981e+00, 4.13000011e+00, 1.89999998e-01,\n",
       "       3.52999997e+00, 2.09999990e+00, 4.07999992e+00, 5.42000008e+00,\n",
       "       4.48999977e+00, 3.75000000e+00, 5.28999996e+00, 2.76999998e+00,\n",
       "       3.64000010e+00, 4.13999987e+00, 5.84000015e+00, 8.29999983e-01,\n",
       "       5.28000021e+00, 6.15000010e+00, 5.65000010e+00, 5.80999994e+00,\n",
       "       8.38000011e+00, 9.82999992e+00, 6.36000013e+00, 5.40999985e+00,\n",
       "       6.17999983e+00, 5.34000015e+00, 6.63999987e+00, 1.13599997e+01,\n",
       "       9.02999973e+00, 5.26999998e+00, 0.00000000e+00, 8.10000038e+00,\n",
       "       1.91999996e+00, 9.90000010e-01, 5.88000011e+00, 7.38000011e+00,\n",
       "       8.00000000e+00, 1.00799999e+01, 6.48999977e+00, 3.00000000e+00,\n",
       "       3.65000010e+00, 7.76999998e+00, 2.24000001e+00, 7.86999989e+00,\n",
       "       1.11099997e+01, 7.40999985e+00, 5.55999994e+00, 6.69999981e+00,\n",
       "       8.30000019e+00, 3.35999990e+00, 3.25999999e+00, 7.84000015e+00,\n",
       "       7.38000011e+00, 2.14000010e+00, 5.61999989e+00, 1.48400002e+01,\n",
       "       0.00000000e+00, 6.38999987e+00, 7.48000002e+00, 9.36999989e+00,\n",
       "       3.66000009e+00, 6.76000023e+00, 8.14999962e+00, 0.00000000e+00,\n",
       "       5.01000023e+00, 7.21999979e+00, 0.00000000e+00, 0.00000000e+00,\n",
       "       0.00000000e+00, 0.00000000e+00, 0.00000000e+00, 0.00000000e+00,\n",
       "       0.00000000e+00, 0.00000000e+00, 0.00000000e+00, 2.02999997e+00,\n",
       "       0.00000000e+00, 0.00000000e+00, 7.51000023e+00, 1.29999995e-01,\n",
       "       0.00000000e+00, 0.00000000e+00, 0.00000000e+00, 5.17999983e+00,\n",
       "       1.42999995e+00, 1.13000000e+00, 0.00000000e+00, 6.69999981e+00,\n",
       "       8.43000031e+00, 1.00299997e+01, 2.96000004e+00, 9.99999978e-03,\n",
       "       1.02399998e+01, 9.31999969e+00, 6.98000002e+00, 8.30000019e+00,\n",
       "       8.14000034e+00, 1.28000002e+01, 7.94000006e+00, 8.85999966e+00,\n",
       "       9.64999962e+00, 1.08800001e+01, 8.26000023e+00, 6.71000004e+00,\n",
       "       9.09000015e+00, 3.90000010e+00, 9.06000042e+00, 7.34000015e+00,\n",
       "       1.12399998e+01, 1.13999996e+01, 9.14000034e+00, 1.02500000e+01,\n",
       "       1.05799999e+01, 9.64999962e+00, 6.92000008e+00, 6.78999996e+00,\n",
       "       8.14000034e+00, 5.76999998e+00, 7.67000008e+00, 1.99999996e-02,\n",
       "       1.30999994e+00, 3.86999989e+00, 4.98999977e+00, 4.73000002e+00,\n",
       "       1.08199997e+01, 6.51999998e+00, 4.67000008e+00, 3.49999994e-01,\n",
       "       3.92000008e+00, 2.59999990e-01, 1.56199999e+01, 2.01399994e+01,\n",
       "       1.32100000e+01, 1.34099998e+01, 1.24200001e+01, 1.31999998e+01,\n",
       "       9.53999996e+00, 9.14000034e+00, 7.73000002e+00, 1.27200003e+01,\n",
       "       2.09999993e-01, 0.00000000e+00, 0.00000000e+00, 0.00000000e+00,\n",
       "       0.00000000e+00, 0.00000000e+00, 1.27999997e+00, 3.42000008e+00,\n",
       "       9.14999962e+00, 3.53999996e+00, 1.67999995e+00, 1.08000004e+00,\n",
       "       0.00000000e+00, 1.12399998e+01, 2.66000009e+00, 7.26000023e+00,\n",
       "       1.10500002e+01, 1.01899996e+01, 7.23999977e+00, 7.71000004e+00,\n",
       "       6.61999989e+00, 1.77999997e+00, 2.08999991e+00, 7.01000023e+00,\n",
       "       2.56999993e+00, 1.70000005e+00, 2.73000002e+00, 1.86000001e+00,\n",
       "       2.46000004e+00, 5.32999992e+00, 1.63999999e+00, 2.20000005e+00,\n",
       "       1.10000002e+00, 2.94000006e+00, 5.40999985e+00, 4.63000011e+00,\n",
       "       2.45000005e+00, 1.49000001e+00, 1.36000001e+00, 8.29999983e-01,\n",
       "       9.39999998e-01, 6.49999976e-01, 2.95000005e+00, 1.09999999e-01,\n",
       "       9.99999978e-03, 1.58199997e+01, 2.33899994e+01, 8.18999958e+00,\n",
       "       1.84099998e+01, 8.11999989e+00, 2.09099998e+01, 8.42000008e+00,\n",
       "       2.03899994e+01, 8.06999969e+00, 2.75300007e+01, 8.06000042e+00,\n",
       "       1.77999997e+00])"
      ]
     },
     "execution_count": 27,
     "metadata": {},
     "output_type": "execute_result"
    }
   ],
   "source": [
    "y=companies.iloc[:,3].values\n",
    "y\n"
   ]
  },
  {
   "cell_type": "code",
   "execution_count": 28,
   "metadata": {
    "scrolled": true
   },
   "outputs": [
    {
     "ename": "SyntaxError",
     "evalue": "positional argument follows keyword argument (<ipython-input-28-801fa618ac73>, line 2)",
     "output_type": "error",
     "traceback": [
      "\u001b[1;36m  File \u001b[1;32m\"<ipython-input-28-801fa618ac73>\"\u001b[1;36m, line \u001b[1;32m2\u001b[0m\n\u001b[1;33m    x_train,x_test,y_train,y_test=train_test_split(x,y,test_size=0,3,random_state=0)\u001b[0m\n\u001b[1;37m                                                                   ^\u001b[0m\n\u001b[1;31mSyntaxError\u001b[0m\u001b[1;31m:\u001b[0m positional argument follows keyword argument\n"
     ]
    }
   ],
   "source": [
    " from sklearn.model_selection import train_test_split\n",
    "x_train,x_test,y_train,y_test=train_test_split(x,y,test_size=0,3,random_state=0)"
   ]
  },
  {
   "cell_type": "code",
   "execution_count": 29,
   "metadata": {
    "scrolled": true
   },
   "outputs": [],
   "source": [
    "from sklearn.model_selection import train_test_split\n",
    "x_train,x_test,y_train,y_test=train_test_split(x,y, test_size=0.3, random_state=0)"
   ]
  },
  {
   "cell_type": "code",
   "execution_count": 30,
   "metadata": {
    "scrolled": true
   },
   "outputs": [
    {
     "ename": "AttributeError",
     "evalue": "'numpy.ndarray' object has no attribute 'values'",
     "output_type": "error",
     "traceback": [
      "\u001b[1;31m---------------------------------------------------------------------------\u001b[0m",
      "\u001b[1;31mAttributeError\u001b[0m                            Traceback (most recent call last)",
      "\u001b[1;32m<ipython-input-30-274a2fac976f>\u001b[0m in \u001b[0;36m<module>\u001b[1;34m\u001b[0m\n\u001b[0;32m      1\u001b[0m \u001b[1;32mfrom\u001b[0m \u001b[0msklearn\u001b[0m\u001b[1;33m.\u001b[0m\u001b[0mmodel_selection\u001b[0m \u001b[1;32mimport\u001b[0m \u001b[0mtrain_test_split\u001b[0m\u001b[1;33m\u001b[0m\u001b[1;33m\u001b[0m\u001b[0m\n\u001b[1;32m----> 2\u001b[1;33m \u001b[0mx_train\u001b[0m\u001b[1;33m.\u001b[0m\u001b[0mvalues\u001b[0m\u001b[1;33m,\u001b[0m\u001b[0mx_test\u001b[0m\u001b[1;33m.\u001b[0m\u001b[0mvalues\u001b[0m\u001b[1;33m,\u001b[0m\u001b[0my_train\u001b[0m\u001b[1;33m.\u001b[0m\u001b[0mvalues\u001b[0m\u001b[1;33m,\u001b[0m\u001b[0my_test\u001b[0m\u001b[1;33m.\u001b[0m\u001b[0mvalues\u001b[0m\u001b[1;33m=\u001b[0m\u001b[0mtrain_test_split\u001b[0m\u001b[1;33m(\u001b[0m\u001b[0mx\u001b[0m\u001b[1;33m,\u001b[0m\u001b[0my\u001b[0m\u001b[1;33m,\u001b[0m \u001b[0mtest_size\u001b[0m\u001b[1;33m=\u001b[0m\u001b[1;36m0.3\u001b[0m\u001b[1;33m,\u001b[0m \u001b[0mrandom_state\u001b[0m\u001b[1;33m=\u001b[0m\u001b[1;36m0\u001b[0m\u001b[1;33m)\u001b[0m\u001b[1;33m\u001b[0m\u001b[1;33m\u001b[0m\u001b[0m\n\u001b[0m",
      "\u001b[1;31mAttributeError\u001b[0m: 'numpy.ndarray' object has no attribute 'values'"
     ]
    }
   ],
   "source": [
    "from sklearn.model_selection import train_test_split\n",
    "x_train.values,x_test.values,y_train.values,y_test.values=train_test_split(x,y, test_size=0.3, random_state=0)"
   ]
  },
  {
   "cell_type": "code",
   "execution_count": 31,
   "metadata": {
    "scrolled": true
   },
   "outputs": [
    {
     "ename": "ValueError",
     "evalue": "Expected 2D array, got 1D array instead:\narray=[1490 2019 4039 2884 2244 3669 3920 2206 2677 2380 1496 3697 1429 3357\n 1421 3597 1515 2573 2848  787 1413   50 1816 1783 1815 2141 1878 2817\n 1878 2130 2943 2060 1920 1950 2437 3839 2700 1811 1878 1782 2154 1308\n 2099 3032 1625 3176 3798 3140 2613 2058 3016 1641 2164 2129 2438 1876\n  745 1920 3253 2694 2840 2046 3492 2484 2207 2664 1741 1409 3004 1232\n 1370 3202 1324 1237 2783 2570 2453 3728 3527 3765 3662 2715 2233 2041\n 2584 1776 3290 2886 2069 2149 2040 1920 2100 1555 1902 1574 4010 2354\n 1511 1347 1023 1607 1776 3864 1327 1944 2216  633 1648 1903 1814 2308\n 2262 4562 2005 1772 2617 2445 4196 2259 2188 2966 2293 1777 2178 2303\n 2088 1313 1776 1778 2035 1935 2480 2421 2188 3436 2060 2577 2702 1429\n 1755 3209 2947  538 1697 1140 4526 2437 1929 2038 1276 1755 3817 2187\n 2871 2881 2341 2210 2060 2575 1296 2014 1373 2044 1853 2101 2244 1932\n 2519 1845 3323 2981 2733 3439 1841 2667  722 1892 3097 2976 1657 2811\n 3597 2335 2083 3065 1330 1901 1469 2114 1888 2444 2235 1636 1787 2188\n 2100 1794 1335 1780 2449 4286 1944 3313 1300 2925 1819 1935 3377 1324\n 4430  728 3681 2217 1405 1882  600 1429 3830 2442 3427 1969 1820 2296\n 2923 2393 2010 1852 1820 3510 2055 2257 1377 2820 2297 2778 1870 1407\n 2009 3304 2606 1425 2568 2078 2488 2158 2142 1971 2482 2374 2871 1832\n 3098 1530 2543 3775 1906 1776 3323  625 1349  791 1910    0 1452 3418\n 2676 1223 2062 1878 1776 1276 1278 1953 3338 2462 3224 2684 4128 1787\n 2822 2360 1980 1324 2442 2224 1777 1878 2096 1429 1680 2645  735 1498\n 2990 1820 1890 3348 1725 4029 3264 2210 2790 1538 2255 1583 1615 1878\n 2915 1776 1850 2170 2507 2227    0 4034 2338  489 2980].\nReshape your data either using array.reshape(-1, 1) if your data has a single feature or array.reshape(1, -1) if it contains a single sample.",
     "output_type": "error",
     "traceback": [
      "\u001b[1;31m---------------------------------------------------------------------------\u001b[0m",
      "\u001b[1;31mValueError\u001b[0m                                Traceback (most recent call last)",
      "\u001b[1;32m<ipython-input-31-5f25d6f82fe8>\u001b[0m in \u001b[0;36m<module>\u001b[1;34m\u001b[0m\n\u001b[0;32m      1\u001b[0m \u001b[1;32mfrom\u001b[0m \u001b[0msklearn\u001b[0m\u001b[1;33m.\u001b[0m\u001b[0mlinear_model\u001b[0m \u001b[1;32mimport\u001b[0m \u001b[0mLinearRegression\u001b[0m\u001b[1;33m\u001b[0m\u001b[1;33m\u001b[0m\u001b[0m\n\u001b[0;32m      2\u001b[0m \u001b[0mregressor\u001b[0m\u001b[1;33m=\u001b[0m\u001b[0mLinearRegression\u001b[0m\u001b[1;33m(\u001b[0m\u001b[1;33m)\u001b[0m\u001b[1;33m\u001b[0m\u001b[1;33m\u001b[0m\u001b[0m\n\u001b[1;32m----> 3\u001b[1;33m \u001b[0mregressor\u001b[0m\u001b[1;33m.\u001b[0m\u001b[0mfit\u001b[0m\u001b[1;33m(\u001b[0m\u001b[0mx_train\u001b[0m\u001b[1;33m,\u001b[0m\u001b[0my_train\u001b[0m\u001b[1;33m)\u001b[0m\u001b[1;33m\u001b[0m\u001b[1;33m\u001b[0m\u001b[0m\n\u001b[0m",
      "\u001b[1;32m~\\anaconda3\\lib\\site-packages\\sklearn\\linear_model\\_base.py\u001b[0m in \u001b[0;36mfit\u001b[1;34m(self, X, y, sample_weight)\u001b[0m\n\u001b[0;32m    503\u001b[0m \u001b[1;33m\u001b[0m\u001b[0m\n\u001b[0;32m    504\u001b[0m         \u001b[0mn_jobs_\u001b[0m \u001b[1;33m=\u001b[0m \u001b[0mself\u001b[0m\u001b[1;33m.\u001b[0m\u001b[0mn_jobs\u001b[0m\u001b[1;33m\u001b[0m\u001b[1;33m\u001b[0m\u001b[0m\n\u001b[1;32m--> 505\u001b[1;33m         X, y = self._validate_data(X, y, accept_sparse=['csr', 'csc', 'coo'],\n\u001b[0m\u001b[0;32m    506\u001b[0m                                    y_numeric=True, multi_output=True)\n\u001b[0;32m    507\u001b[0m \u001b[1;33m\u001b[0m\u001b[0m\n",
      "\u001b[1;32m~\\anaconda3\\lib\\site-packages\\sklearn\\base.py\u001b[0m in \u001b[0;36m_validate_data\u001b[1;34m(self, X, y, reset, validate_separately, **check_params)\u001b[0m\n\u001b[0;32m    430\u001b[0m                 \u001b[0my\u001b[0m \u001b[1;33m=\u001b[0m \u001b[0mcheck_array\u001b[0m\u001b[1;33m(\u001b[0m\u001b[0my\u001b[0m\u001b[1;33m,\u001b[0m \u001b[1;33m**\u001b[0m\u001b[0mcheck_y_params\u001b[0m\u001b[1;33m)\u001b[0m\u001b[1;33m\u001b[0m\u001b[1;33m\u001b[0m\u001b[0m\n\u001b[0;32m    431\u001b[0m             \u001b[1;32melse\u001b[0m\u001b[1;33m:\u001b[0m\u001b[1;33m\u001b[0m\u001b[1;33m\u001b[0m\u001b[0m\n\u001b[1;32m--> 432\u001b[1;33m                 \u001b[0mX\u001b[0m\u001b[1;33m,\u001b[0m \u001b[0my\u001b[0m \u001b[1;33m=\u001b[0m \u001b[0mcheck_X_y\u001b[0m\u001b[1;33m(\u001b[0m\u001b[0mX\u001b[0m\u001b[1;33m,\u001b[0m \u001b[0my\u001b[0m\u001b[1;33m,\u001b[0m \u001b[1;33m**\u001b[0m\u001b[0mcheck_params\u001b[0m\u001b[1;33m)\u001b[0m\u001b[1;33m\u001b[0m\u001b[1;33m\u001b[0m\u001b[0m\n\u001b[0m\u001b[0;32m    433\u001b[0m             \u001b[0mout\u001b[0m \u001b[1;33m=\u001b[0m \u001b[0mX\u001b[0m\u001b[1;33m,\u001b[0m \u001b[0my\u001b[0m\u001b[1;33m\u001b[0m\u001b[1;33m\u001b[0m\u001b[0m\n\u001b[0;32m    434\u001b[0m \u001b[1;33m\u001b[0m\u001b[0m\n",
      "\u001b[1;32m~\\anaconda3\\lib\\site-packages\\sklearn\\utils\\validation.py\u001b[0m in \u001b[0;36minner_f\u001b[1;34m(*args, **kwargs)\u001b[0m\n\u001b[0;32m     70\u001b[0m                           FutureWarning)\n\u001b[0;32m     71\u001b[0m         \u001b[0mkwargs\u001b[0m\u001b[1;33m.\u001b[0m\u001b[0mupdate\u001b[0m\u001b[1;33m(\u001b[0m\u001b[1;33m{\u001b[0m\u001b[0mk\u001b[0m\u001b[1;33m:\u001b[0m \u001b[0marg\u001b[0m \u001b[1;32mfor\u001b[0m \u001b[0mk\u001b[0m\u001b[1;33m,\u001b[0m \u001b[0marg\u001b[0m \u001b[1;32min\u001b[0m \u001b[0mzip\u001b[0m\u001b[1;33m(\u001b[0m\u001b[0msig\u001b[0m\u001b[1;33m.\u001b[0m\u001b[0mparameters\u001b[0m\u001b[1;33m,\u001b[0m \u001b[0margs\u001b[0m\u001b[1;33m)\u001b[0m\u001b[1;33m}\u001b[0m\u001b[1;33m)\u001b[0m\u001b[1;33m\u001b[0m\u001b[1;33m\u001b[0m\u001b[0m\n\u001b[1;32m---> 72\u001b[1;33m         \u001b[1;32mreturn\u001b[0m \u001b[0mf\u001b[0m\u001b[1;33m(\u001b[0m\u001b[1;33m**\u001b[0m\u001b[0mkwargs\u001b[0m\u001b[1;33m)\u001b[0m\u001b[1;33m\u001b[0m\u001b[1;33m\u001b[0m\u001b[0m\n\u001b[0m\u001b[0;32m     73\u001b[0m     \u001b[1;32mreturn\u001b[0m \u001b[0minner_f\u001b[0m\u001b[1;33m\u001b[0m\u001b[1;33m\u001b[0m\u001b[0m\n\u001b[0;32m     74\u001b[0m \u001b[1;33m\u001b[0m\u001b[0m\n",
      "\u001b[1;32m~\\anaconda3\\lib\\site-packages\\sklearn\\utils\\validation.py\u001b[0m in \u001b[0;36mcheck_X_y\u001b[1;34m(X, y, accept_sparse, accept_large_sparse, dtype, order, copy, force_all_finite, ensure_2d, allow_nd, multi_output, ensure_min_samples, ensure_min_features, y_numeric, estimator)\u001b[0m\n\u001b[0;32m    793\u001b[0m         \u001b[1;32mraise\u001b[0m \u001b[0mValueError\u001b[0m\u001b[1;33m(\u001b[0m\u001b[1;34m\"y cannot be None\"\u001b[0m\u001b[1;33m)\u001b[0m\u001b[1;33m\u001b[0m\u001b[1;33m\u001b[0m\u001b[0m\n\u001b[0;32m    794\u001b[0m \u001b[1;33m\u001b[0m\u001b[0m\n\u001b[1;32m--> 795\u001b[1;33m     X = check_array(X, accept_sparse=accept_sparse,\n\u001b[0m\u001b[0;32m    796\u001b[0m                     \u001b[0maccept_large_sparse\u001b[0m\u001b[1;33m=\u001b[0m\u001b[0maccept_large_sparse\u001b[0m\u001b[1;33m,\u001b[0m\u001b[1;33m\u001b[0m\u001b[1;33m\u001b[0m\u001b[0m\n\u001b[0;32m    797\u001b[0m                     \u001b[0mdtype\u001b[0m\u001b[1;33m=\u001b[0m\u001b[0mdtype\u001b[0m\u001b[1;33m,\u001b[0m \u001b[0morder\u001b[0m\u001b[1;33m=\u001b[0m\u001b[0morder\u001b[0m\u001b[1;33m,\u001b[0m \u001b[0mcopy\u001b[0m\u001b[1;33m=\u001b[0m\u001b[0mcopy\u001b[0m\u001b[1;33m,\u001b[0m\u001b[1;33m\u001b[0m\u001b[1;33m\u001b[0m\u001b[0m\n",
      "\u001b[1;32m~\\anaconda3\\lib\\site-packages\\sklearn\\utils\\validation.py\u001b[0m in \u001b[0;36minner_f\u001b[1;34m(*args, **kwargs)\u001b[0m\n\u001b[0;32m     70\u001b[0m                           FutureWarning)\n\u001b[0;32m     71\u001b[0m         \u001b[0mkwargs\u001b[0m\u001b[1;33m.\u001b[0m\u001b[0mupdate\u001b[0m\u001b[1;33m(\u001b[0m\u001b[1;33m{\u001b[0m\u001b[0mk\u001b[0m\u001b[1;33m:\u001b[0m \u001b[0marg\u001b[0m \u001b[1;32mfor\u001b[0m \u001b[0mk\u001b[0m\u001b[1;33m,\u001b[0m \u001b[0marg\u001b[0m \u001b[1;32min\u001b[0m \u001b[0mzip\u001b[0m\u001b[1;33m(\u001b[0m\u001b[0msig\u001b[0m\u001b[1;33m.\u001b[0m\u001b[0mparameters\u001b[0m\u001b[1;33m,\u001b[0m \u001b[0margs\u001b[0m\u001b[1;33m)\u001b[0m\u001b[1;33m}\u001b[0m\u001b[1;33m)\u001b[0m\u001b[1;33m\u001b[0m\u001b[1;33m\u001b[0m\u001b[0m\n\u001b[1;32m---> 72\u001b[1;33m         \u001b[1;32mreturn\u001b[0m \u001b[0mf\u001b[0m\u001b[1;33m(\u001b[0m\u001b[1;33m**\u001b[0m\u001b[0mkwargs\u001b[0m\u001b[1;33m)\u001b[0m\u001b[1;33m\u001b[0m\u001b[1;33m\u001b[0m\u001b[0m\n\u001b[0m\u001b[0;32m     73\u001b[0m     \u001b[1;32mreturn\u001b[0m \u001b[0minner_f\u001b[0m\u001b[1;33m\u001b[0m\u001b[1;33m\u001b[0m\u001b[0m\n\u001b[0;32m     74\u001b[0m \u001b[1;33m\u001b[0m\u001b[0m\n",
      "\u001b[1;32m~\\anaconda3\\lib\\site-packages\\sklearn\\utils\\validation.py\u001b[0m in \u001b[0;36mcheck_array\u001b[1;34m(array, accept_sparse, accept_large_sparse, dtype, order, copy, force_all_finite, ensure_2d, allow_nd, ensure_min_samples, ensure_min_features, estimator)\u001b[0m\n\u001b[0;32m    617\u001b[0m             \u001b[1;31m# If input is 1D raise error\u001b[0m\u001b[1;33m\u001b[0m\u001b[1;33m\u001b[0m\u001b[1;33m\u001b[0m\u001b[0m\n\u001b[0;32m    618\u001b[0m             \u001b[1;32mif\u001b[0m \u001b[0marray\u001b[0m\u001b[1;33m.\u001b[0m\u001b[0mndim\u001b[0m \u001b[1;33m==\u001b[0m \u001b[1;36m1\u001b[0m\u001b[1;33m:\u001b[0m\u001b[1;33m\u001b[0m\u001b[1;33m\u001b[0m\u001b[0m\n\u001b[1;32m--> 619\u001b[1;33m                 raise ValueError(\n\u001b[0m\u001b[0;32m    620\u001b[0m                     \u001b[1;34m\"Expected 2D array, got 1D array instead:\\narray={}.\\n\"\u001b[0m\u001b[1;33m\u001b[0m\u001b[1;33m\u001b[0m\u001b[0m\n\u001b[0;32m    621\u001b[0m                     \u001b[1;34m\"Reshape your data either using array.reshape(-1, 1) if \"\u001b[0m\u001b[1;33m\u001b[0m\u001b[1;33m\u001b[0m\u001b[0m\n",
      "\u001b[1;31mValueError\u001b[0m: Expected 2D array, got 1D array instead:\narray=[1490 2019 4039 2884 2244 3669 3920 2206 2677 2380 1496 3697 1429 3357\n 1421 3597 1515 2573 2848  787 1413   50 1816 1783 1815 2141 1878 2817\n 1878 2130 2943 2060 1920 1950 2437 3839 2700 1811 1878 1782 2154 1308\n 2099 3032 1625 3176 3798 3140 2613 2058 3016 1641 2164 2129 2438 1876\n  745 1920 3253 2694 2840 2046 3492 2484 2207 2664 1741 1409 3004 1232\n 1370 3202 1324 1237 2783 2570 2453 3728 3527 3765 3662 2715 2233 2041\n 2584 1776 3290 2886 2069 2149 2040 1920 2100 1555 1902 1574 4010 2354\n 1511 1347 1023 1607 1776 3864 1327 1944 2216  633 1648 1903 1814 2308\n 2262 4562 2005 1772 2617 2445 4196 2259 2188 2966 2293 1777 2178 2303\n 2088 1313 1776 1778 2035 1935 2480 2421 2188 3436 2060 2577 2702 1429\n 1755 3209 2947  538 1697 1140 4526 2437 1929 2038 1276 1755 3817 2187\n 2871 2881 2341 2210 2060 2575 1296 2014 1373 2044 1853 2101 2244 1932\n 2519 1845 3323 2981 2733 3439 1841 2667  722 1892 3097 2976 1657 2811\n 3597 2335 2083 3065 1330 1901 1469 2114 1888 2444 2235 1636 1787 2188\n 2100 1794 1335 1780 2449 4286 1944 3313 1300 2925 1819 1935 3377 1324\n 4430  728 3681 2217 1405 1882  600 1429 3830 2442 3427 1969 1820 2296\n 2923 2393 2010 1852 1820 3510 2055 2257 1377 2820 2297 2778 1870 1407\n 2009 3304 2606 1425 2568 2078 2488 2158 2142 1971 2482 2374 2871 1832\n 3098 1530 2543 3775 1906 1776 3323  625 1349  791 1910    0 1452 3418\n 2676 1223 2062 1878 1776 1276 1278 1953 3338 2462 3224 2684 4128 1787\n 2822 2360 1980 1324 2442 2224 1777 1878 2096 1429 1680 2645  735 1498\n 2990 1820 1890 3348 1725 4029 3264 2210 2790 1538 2255 1583 1615 1878\n 2915 1776 1850 2170 2507 2227    0 4034 2338  489 2980].\nReshape your data either using array.reshape(-1, 1) if your data has a single feature or array.reshape(1, -1) if it contains a single sample."
     ]
    }
   ],
   "source": [
    "from sklearn.linear_model import LinearRegression\n",
    "regressor=LinearRegression()\n",
    "regressor.fit(x_train,y_train)"
   ]
  },
  {
   "cell_type": "code",
   "execution_count": null,
   "metadata": {
    "scrolled": true
   },
   "outputs": [],
   "source": []
  },
  {
   "cell_type": "code",
   "execution_count": 32,
   "metadata": {},
   "outputs": [
    {
     "ename": "ValueError",
     "evalue": "Expected 2D array, got 1D array instead:\narray=[1490 2019 4039 2884 2244 3669 3920 2206 2677 2380 1496 3697 1429 3357\n 1421 3597 1515 2573 2848  787 1413   50 1816 1783 1815 2141 1878 2817\n 1878 2130 2943 2060 1920 1950 2437 3839 2700 1811 1878 1782 2154 1308\n 2099 3032 1625 3176 3798 3140 2613 2058 3016 1641 2164 2129 2438 1876\n  745 1920 3253 2694 2840 2046 3492 2484 2207 2664 1741 1409 3004 1232\n 1370 3202 1324 1237 2783 2570 2453 3728 3527 3765 3662 2715 2233 2041\n 2584 1776 3290 2886 2069 2149 2040 1920 2100 1555 1902 1574 4010 2354\n 1511 1347 1023 1607 1776 3864 1327 1944 2216  633 1648 1903 1814 2308\n 2262 4562 2005 1772 2617 2445 4196 2259 2188 2966 2293 1777 2178 2303\n 2088 1313 1776 1778 2035 1935 2480 2421 2188 3436 2060 2577 2702 1429\n 1755 3209 2947  538 1697 1140 4526 2437 1929 2038 1276 1755 3817 2187\n 2871 2881 2341 2210 2060 2575 1296 2014 1373 2044 1853 2101 2244 1932\n 2519 1845 3323 2981 2733 3439 1841 2667  722 1892 3097 2976 1657 2811\n 3597 2335 2083 3065 1330 1901 1469 2114 1888 2444 2235 1636 1787 2188\n 2100 1794 1335 1780 2449 4286 1944 3313 1300 2925 1819 1935 3377 1324\n 4430  728 3681 2217 1405 1882  600 1429 3830 2442 3427 1969 1820 2296\n 2923 2393 2010 1852 1820 3510 2055 2257 1377 2820 2297 2778 1870 1407\n 2009 3304 2606 1425 2568 2078 2488 2158 2142 1971 2482 2374 2871 1832\n 3098 1530 2543 3775 1906 1776 3323  625 1349  791 1910    0 1452 3418\n 2676 1223 2062 1878 1776 1276 1278 1953 3338 2462 3224 2684 4128 1787\n 2822 2360 1980 1324 2442 2224 1777 1878 2096 1429 1680 2645  735 1498\n 2990 1820 1890 3348 1725 4029 3264 2210 2790 1538 2255 1583 1615 1878\n 2915 1776 1850 2170 2507 2227    0 4034 2338  489 2980].\nReshape your data either using array.reshape(-1, 1) if your data has a single feature or array.reshape(1, -1) if it contains a single sample.",
     "output_type": "error",
     "traceback": [
      "\u001b[1;31m---------------------------------------------------------------------------\u001b[0m",
      "\u001b[1;31mValueError\u001b[0m                                Traceback (most recent call last)",
      "\u001b[1;32m<ipython-input-32-11334378079d>\u001b[0m in \u001b[0;36m<module>\u001b[1;34m\u001b[0m\n\u001b[0;32m      2\u001b[0m \u001b[1;32mfrom\u001b[0m \u001b[0msklearn\u001b[0m\u001b[1;33m.\u001b[0m\u001b[0mlinear_model\u001b[0m \u001b[1;32mimport\u001b[0m \u001b[0mLinearRegression\u001b[0m\u001b[1;33m\u001b[0m\u001b[1;33m\u001b[0m\u001b[0m\n\u001b[0;32m      3\u001b[0m \u001b[0mregressor\u001b[0m\u001b[1;33m=\u001b[0m\u001b[0mLinearRegression\u001b[0m\u001b[1;33m(\u001b[0m\u001b[1;33m)\u001b[0m\u001b[1;33m\u001b[0m\u001b[1;33m\u001b[0m\u001b[0m\n\u001b[1;32m----> 4\u001b[1;33m \u001b[0mregressor\u001b[0m\u001b[1;33m.\u001b[0m\u001b[0mfit\u001b[0m\u001b[1;33m(\u001b[0m\u001b[0mx_train\u001b[0m\u001b[1;33m,\u001b[0m\u001b[0my_train\u001b[0m\u001b[1;33m)\u001b[0m\u001b[1;33m\u001b[0m\u001b[1;33m\u001b[0m\u001b[0m\n\u001b[0m",
      "\u001b[1;32m~\\anaconda3\\lib\\site-packages\\sklearn\\linear_model\\_base.py\u001b[0m in \u001b[0;36mfit\u001b[1;34m(self, X, y, sample_weight)\u001b[0m\n\u001b[0;32m    503\u001b[0m \u001b[1;33m\u001b[0m\u001b[0m\n\u001b[0;32m    504\u001b[0m         \u001b[0mn_jobs_\u001b[0m \u001b[1;33m=\u001b[0m \u001b[0mself\u001b[0m\u001b[1;33m.\u001b[0m\u001b[0mn_jobs\u001b[0m\u001b[1;33m\u001b[0m\u001b[1;33m\u001b[0m\u001b[0m\n\u001b[1;32m--> 505\u001b[1;33m         X, y = self._validate_data(X, y, accept_sparse=['csr', 'csc', 'coo'],\n\u001b[0m\u001b[0;32m    506\u001b[0m                                    y_numeric=True, multi_output=True)\n\u001b[0;32m    507\u001b[0m \u001b[1;33m\u001b[0m\u001b[0m\n",
      "\u001b[1;32m~\\anaconda3\\lib\\site-packages\\sklearn\\base.py\u001b[0m in \u001b[0;36m_validate_data\u001b[1;34m(self, X, y, reset, validate_separately, **check_params)\u001b[0m\n\u001b[0;32m    430\u001b[0m                 \u001b[0my\u001b[0m \u001b[1;33m=\u001b[0m \u001b[0mcheck_array\u001b[0m\u001b[1;33m(\u001b[0m\u001b[0my\u001b[0m\u001b[1;33m,\u001b[0m \u001b[1;33m**\u001b[0m\u001b[0mcheck_y_params\u001b[0m\u001b[1;33m)\u001b[0m\u001b[1;33m\u001b[0m\u001b[1;33m\u001b[0m\u001b[0m\n\u001b[0;32m    431\u001b[0m             \u001b[1;32melse\u001b[0m\u001b[1;33m:\u001b[0m\u001b[1;33m\u001b[0m\u001b[1;33m\u001b[0m\u001b[0m\n\u001b[1;32m--> 432\u001b[1;33m                 \u001b[0mX\u001b[0m\u001b[1;33m,\u001b[0m \u001b[0my\u001b[0m \u001b[1;33m=\u001b[0m \u001b[0mcheck_X_y\u001b[0m\u001b[1;33m(\u001b[0m\u001b[0mX\u001b[0m\u001b[1;33m,\u001b[0m \u001b[0my\u001b[0m\u001b[1;33m,\u001b[0m \u001b[1;33m**\u001b[0m\u001b[0mcheck_params\u001b[0m\u001b[1;33m)\u001b[0m\u001b[1;33m\u001b[0m\u001b[1;33m\u001b[0m\u001b[0m\n\u001b[0m\u001b[0;32m    433\u001b[0m             \u001b[0mout\u001b[0m \u001b[1;33m=\u001b[0m \u001b[0mX\u001b[0m\u001b[1;33m,\u001b[0m \u001b[0my\u001b[0m\u001b[1;33m\u001b[0m\u001b[1;33m\u001b[0m\u001b[0m\n\u001b[0;32m    434\u001b[0m \u001b[1;33m\u001b[0m\u001b[0m\n",
      "\u001b[1;32m~\\anaconda3\\lib\\site-packages\\sklearn\\utils\\validation.py\u001b[0m in \u001b[0;36minner_f\u001b[1;34m(*args, **kwargs)\u001b[0m\n\u001b[0;32m     70\u001b[0m                           FutureWarning)\n\u001b[0;32m     71\u001b[0m         \u001b[0mkwargs\u001b[0m\u001b[1;33m.\u001b[0m\u001b[0mupdate\u001b[0m\u001b[1;33m(\u001b[0m\u001b[1;33m{\u001b[0m\u001b[0mk\u001b[0m\u001b[1;33m:\u001b[0m \u001b[0marg\u001b[0m \u001b[1;32mfor\u001b[0m \u001b[0mk\u001b[0m\u001b[1;33m,\u001b[0m \u001b[0marg\u001b[0m \u001b[1;32min\u001b[0m \u001b[0mzip\u001b[0m\u001b[1;33m(\u001b[0m\u001b[0msig\u001b[0m\u001b[1;33m.\u001b[0m\u001b[0mparameters\u001b[0m\u001b[1;33m,\u001b[0m \u001b[0margs\u001b[0m\u001b[1;33m)\u001b[0m\u001b[1;33m}\u001b[0m\u001b[1;33m)\u001b[0m\u001b[1;33m\u001b[0m\u001b[1;33m\u001b[0m\u001b[0m\n\u001b[1;32m---> 72\u001b[1;33m         \u001b[1;32mreturn\u001b[0m \u001b[0mf\u001b[0m\u001b[1;33m(\u001b[0m\u001b[1;33m**\u001b[0m\u001b[0mkwargs\u001b[0m\u001b[1;33m)\u001b[0m\u001b[1;33m\u001b[0m\u001b[1;33m\u001b[0m\u001b[0m\n\u001b[0m\u001b[0;32m     73\u001b[0m     \u001b[1;32mreturn\u001b[0m \u001b[0minner_f\u001b[0m\u001b[1;33m\u001b[0m\u001b[1;33m\u001b[0m\u001b[0m\n\u001b[0;32m     74\u001b[0m \u001b[1;33m\u001b[0m\u001b[0m\n",
      "\u001b[1;32m~\\anaconda3\\lib\\site-packages\\sklearn\\utils\\validation.py\u001b[0m in \u001b[0;36mcheck_X_y\u001b[1;34m(X, y, accept_sparse, accept_large_sparse, dtype, order, copy, force_all_finite, ensure_2d, allow_nd, multi_output, ensure_min_samples, ensure_min_features, y_numeric, estimator)\u001b[0m\n\u001b[0;32m    793\u001b[0m         \u001b[1;32mraise\u001b[0m \u001b[0mValueError\u001b[0m\u001b[1;33m(\u001b[0m\u001b[1;34m\"y cannot be None\"\u001b[0m\u001b[1;33m)\u001b[0m\u001b[1;33m\u001b[0m\u001b[1;33m\u001b[0m\u001b[0m\n\u001b[0;32m    794\u001b[0m \u001b[1;33m\u001b[0m\u001b[0m\n\u001b[1;32m--> 795\u001b[1;33m     X = check_array(X, accept_sparse=accept_sparse,\n\u001b[0m\u001b[0;32m    796\u001b[0m                     \u001b[0maccept_large_sparse\u001b[0m\u001b[1;33m=\u001b[0m\u001b[0maccept_large_sparse\u001b[0m\u001b[1;33m,\u001b[0m\u001b[1;33m\u001b[0m\u001b[1;33m\u001b[0m\u001b[0m\n\u001b[0;32m    797\u001b[0m                     \u001b[0mdtype\u001b[0m\u001b[1;33m=\u001b[0m\u001b[0mdtype\u001b[0m\u001b[1;33m,\u001b[0m \u001b[0morder\u001b[0m\u001b[1;33m=\u001b[0m\u001b[0morder\u001b[0m\u001b[1;33m,\u001b[0m \u001b[0mcopy\u001b[0m\u001b[1;33m=\u001b[0m\u001b[0mcopy\u001b[0m\u001b[1;33m,\u001b[0m\u001b[1;33m\u001b[0m\u001b[1;33m\u001b[0m\u001b[0m\n",
      "\u001b[1;32m~\\anaconda3\\lib\\site-packages\\sklearn\\utils\\validation.py\u001b[0m in \u001b[0;36minner_f\u001b[1;34m(*args, **kwargs)\u001b[0m\n\u001b[0;32m     70\u001b[0m                           FutureWarning)\n\u001b[0;32m     71\u001b[0m         \u001b[0mkwargs\u001b[0m\u001b[1;33m.\u001b[0m\u001b[0mupdate\u001b[0m\u001b[1;33m(\u001b[0m\u001b[1;33m{\u001b[0m\u001b[0mk\u001b[0m\u001b[1;33m:\u001b[0m \u001b[0marg\u001b[0m \u001b[1;32mfor\u001b[0m \u001b[0mk\u001b[0m\u001b[1;33m,\u001b[0m \u001b[0marg\u001b[0m \u001b[1;32min\u001b[0m \u001b[0mzip\u001b[0m\u001b[1;33m(\u001b[0m\u001b[0msig\u001b[0m\u001b[1;33m.\u001b[0m\u001b[0mparameters\u001b[0m\u001b[1;33m,\u001b[0m \u001b[0margs\u001b[0m\u001b[1;33m)\u001b[0m\u001b[1;33m}\u001b[0m\u001b[1;33m)\u001b[0m\u001b[1;33m\u001b[0m\u001b[1;33m\u001b[0m\u001b[0m\n\u001b[1;32m---> 72\u001b[1;33m         \u001b[1;32mreturn\u001b[0m \u001b[0mf\u001b[0m\u001b[1;33m(\u001b[0m\u001b[1;33m**\u001b[0m\u001b[0mkwargs\u001b[0m\u001b[1;33m)\u001b[0m\u001b[1;33m\u001b[0m\u001b[1;33m\u001b[0m\u001b[0m\n\u001b[0m\u001b[0;32m     73\u001b[0m     \u001b[1;32mreturn\u001b[0m \u001b[0minner_f\u001b[0m\u001b[1;33m\u001b[0m\u001b[1;33m\u001b[0m\u001b[0m\n\u001b[0;32m     74\u001b[0m \u001b[1;33m\u001b[0m\u001b[0m\n",
      "\u001b[1;32m~\\anaconda3\\lib\\site-packages\\sklearn\\utils\\validation.py\u001b[0m in \u001b[0;36mcheck_array\u001b[1;34m(array, accept_sparse, accept_large_sparse, dtype, order, copy, force_all_finite, ensure_2d, allow_nd, ensure_min_samples, ensure_min_features, estimator)\u001b[0m\n\u001b[0;32m    617\u001b[0m             \u001b[1;31m# If input is 1D raise error\u001b[0m\u001b[1;33m\u001b[0m\u001b[1;33m\u001b[0m\u001b[1;33m\u001b[0m\u001b[0m\n\u001b[0;32m    618\u001b[0m             \u001b[1;32mif\u001b[0m \u001b[0marray\u001b[0m\u001b[1;33m.\u001b[0m\u001b[0mndim\u001b[0m \u001b[1;33m==\u001b[0m \u001b[1;36m1\u001b[0m\u001b[1;33m:\u001b[0m\u001b[1;33m\u001b[0m\u001b[1;33m\u001b[0m\u001b[0m\n\u001b[1;32m--> 619\u001b[1;33m                 raise ValueError(\n\u001b[0m\u001b[0;32m    620\u001b[0m                     \u001b[1;34m\"Expected 2D array, got 1D array instead:\\narray={}.\\n\"\u001b[0m\u001b[1;33m\u001b[0m\u001b[1;33m\u001b[0m\u001b[0m\n\u001b[0;32m    621\u001b[0m                     \u001b[1;34m\"Reshape your data either using array.reshape(-1, 1) if \"\u001b[0m\u001b[1;33m\u001b[0m\u001b[1;33m\u001b[0m\u001b[0m\n",
      "\u001b[1;31mValueError\u001b[0m: Expected 2D array, got 1D array instead:\narray=[1490 2019 4039 2884 2244 3669 3920 2206 2677 2380 1496 3697 1429 3357\n 1421 3597 1515 2573 2848  787 1413   50 1816 1783 1815 2141 1878 2817\n 1878 2130 2943 2060 1920 1950 2437 3839 2700 1811 1878 1782 2154 1308\n 2099 3032 1625 3176 3798 3140 2613 2058 3016 1641 2164 2129 2438 1876\n  745 1920 3253 2694 2840 2046 3492 2484 2207 2664 1741 1409 3004 1232\n 1370 3202 1324 1237 2783 2570 2453 3728 3527 3765 3662 2715 2233 2041\n 2584 1776 3290 2886 2069 2149 2040 1920 2100 1555 1902 1574 4010 2354\n 1511 1347 1023 1607 1776 3864 1327 1944 2216  633 1648 1903 1814 2308\n 2262 4562 2005 1772 2617 2445 4196 2259 2188 2966 2293 1777 2178 2303\n 2088 1313 1776 1778 2035 1935 2480 2421 2188 3436 2060 2577 2702 1429\n 1755 3209 2947  538 1697 1140 4526 2437 1929 2038 1276 1755 3817 2187\n 2871 2881 2341 2210 2060 2575 1296 2014 1373 2044 1853 2101 2244 1932\n 2519 1845 3323 2981 2733 3439 1841 2667  722 1892 3097 2976 1657 2811\n 3597 2335 2083 3065 1330 1901 1469 2114 1888 2444 2235 1636 1787 2188\n 2100 1794 1335 1780 2449 4286 1944 3313 1300 2925 1819 1935 3377 1324\n 4430  728 3681 2217 1405 1882  600 1429 3830 2442 3427 1969 1820 2296\n 2923 2393 2010 1852 1820 3510 2055 2257 1377 2820 2297 2778 1870 1407\n 2009 3304 2606 1425 2568 2078 2488 2158 2142 1971 2482 2374 2871 1832\n 3098 1530 2543 3775 1906 1776 3323  625 1349  791 1910    0 1452 3418\n 2676 1223 2062 1878 1776 1276 1278 1953 3338 2462 3224 2684 4128 1787\n 2822 2360 1980 1324 2442 2224 1777 1878 2096 1429 1680 2645  735 1498\n 2990 1820 1890 3348 1725 4029 3264 2210 2790 1538 2255 1583 1615 1878\n 2915 1776 1850 2170 2507 2227    0 4034 2338  489 2980].\nReshape your data either using array.reshape(-1, 1) if your data has a single feature or array.reshape(1, -1) if it contains a single sample."
     ]
    }
   ],
   "source": [
    "x.reshape(1,-1)\n",
    "from sklearn.linear_model import LinearRegression\n",
    "regressor=LinearRegression()\n",
    "regressor.fit(x_train,y_train)"
   ]
  },
  {
   "cell_type": "code",
   "execution_count": 33,
   "metadata": {},
   "outputs": [
    {
     "data": {
      "text/plain": [
       "array([1490, 2019, 4039, 2884, 2244, 3669, 3920, 2206, 2677, 2380, 1496,\n",
       "       3697, 1429, 3357, 1421, 3597, 1515, 2573, 2848,  787, 1413,   50,\n",
       "       1816, 1783, 1815, 2141, 1878, 2817, 1878, 2130, 2943, 2060, 1920,\n",
       "       1950, 2437, 3839, 2700, 1811, 1878, 1782, 2154, 1308, 2099, 3032,\n",
       "       1625, 3176, 3798, 3140, 2613, 2058, 3016, 1641, 2164, 2129, 2438,\n",
       "       1876,  745, 1920, 3253, 2694, 2840, 2046, 3492, 2484, 2207, 2664,\n",
       "       1741, 1409, 3004, 1232, 1370, 3202, 1324, 1237, 2783, 2570, 2453,\n",
       "       3728, 3527, 3765, 3662, 2715, 2233, 2041, 2584, 1776, 3290, 2886,\n",
       "       2069, 2149, 2040, 1920, 2100, 1555, 1902, 1574, 4010, 2354, 1511,\n",
       "       1347, 1023, 1607, 1776, 3864, 1327, 1944, 2216,  633, 1648, 1903,\n",
       "       1814, 2308, 2262, 4562, 2005, 1772, 2617, 2445, 4196, 2259, 2188,\n",
       "       2966, 2293, 1777, 2178, 2303, 2088, 1313, 1776, 1778, 2035, 1935,\n",
       "       2480, 2421, 2188, 3436, 2060, 2577, 2702, 1429, 1755, 3209, 2947,\n",
       "        538, 1697, 1140, 4526, 2437, 1929, 2038, 1276, 1755, 3817, 2187,\n",
       "       2871, 2881, 2341, 2210, 2060, 2575, 1296, 2014, 1373, 2044, 1853,\n",
       "       2101, 2244, 1932, 2519, 1845, 3323, 2981, 2733, 3439, 1841, 2667,\n",
       "        722, 1892, 3097, 2976, 1657, 2811, 3597, 2335, 2083, 3065, 1330,\n",
       "       1901, 1469, 2114, 1888, 2444, 2235, 1636, 1787, 2188, 2100, 1794,\n",
       "       1335, 1780, 2449, 4286, 1944, 3313, 1300, 2925, 1819, 1935, 3377,\n",
       "       1324, 4430,  728, 3681, 2217, 1405, 1882,  600, 1429, 3830, 2442,\n",
       "       3427, 1969, 1820, 2296, 2923, 2393, 2010, 1852, 1820, 3510, 2055,\n",
       "       2257, 1377, 2820, 2297, 2778, 1870, 1407, 2009, 3304, 2606, 1425,\n",
       "       2568, 2078, 2488, 2158, 2142, 1971, 2482, 2374, 2871, 1832, 3098,\n",
       "       1530, 2543, 3775, 1906, 1776, 3323,  625, 1349,  791, 1910,    0,\n",
       "       1452, 3418, 2676, 1223, 2062, 1878, 1776, 1276, 1278, 1953, 3338,\n",
       "       2462, 3224, 2684, 4128, 1787, 2822, 2360, 1980, 1324, 2442, 2224,\n",
       "       1777, 1878, 2096, 1429, 1680, 2645,  735, 1498, 2990, 1820, 1890,\n",
       "       3348, 1725, 4029, 3264, 2210, 2790, 1538, 2255, 1583, 1615, 1878,\n",
       "       2915, 1776, 1850, 2170, 2507, 2227,    0, 4034, 2338,  489, 2980],\n",
       "      dtype=int64)"
      ]
     },
     "execution_count": 33,
     "metadata": {},
     "output_type": "execute_result"
    }
   ],
   "source": [
    "x_train\n"
   ]
  },
  {
   "cell_type": "code",
   "execution_count": 34,
   "metadata": {},
   "outputs": [
    {
     "data": {
      "text/plain": [
       "array([ 182, 1958, 2486, 1776,  399, 2317, 2231, 1861, 1776, 1324, 2035,\n",
       "       1508, 2590, 1778, 2439, 2624, 2735,  938, 2360, 2060, 2154, 2030,\n",
       "       1776, 1692, 1350, 1630, 2752, 2811, 3021, 1712,  790, 1392, 1778,\n",
       "       4234, 2010, 3122, 2260, 3119, 2886,  706, 3713, 2201, 1965, 1978,\n",
       "       3625, 2065, 1878, 2024,  917,  251, 3118, 2060,    0, 1799, 2775,\n",
       "       2104, 1952, 3162, 1889, 2400, 1429, 1559, 1883, 1807, 2517, 3841,\n",
       "        942, 1524, 1708, 1953, 1776, 2862, 3086, 2069, 1822, 1777, 1776,\n",
       "        399, 2834,    0, 2253, 2202, 1849,    0, 1824, 1649, 1724, 2032,\n",
       "       3444, 2249, 1977, 1431, 1920, 1481, 1889, 1347, 2395, 1541, 2928,\n",
       "       2086, 2115, 1886, 2058, 2236, 1288, 1961, 1843, 2162, 1820, 2424,\n",
       "       2133, 1920, 1868, 1878, 2496, 1342, 2443, 3167, 1264, 1882, 3856,\n",
       "       1895, 3378, 1935, 4220, 2892, 2931, 2581, 2344, 1144,  446, 2458,\n",
       "       2060, 2895, 3706, 2786, 2229, 1820], dtype=int64)"
      ]
     },
     "execution_count": 34,
     "metadata": {},
     "output_type": "execute_result"
    }
   ],
   "source": [
    "x_test"
   ]
  },
  {
   "cell_type": "code",
   "execution_count": 35,
   "metadata": {
    "scrolled": true
   },
   "outputs": [
    {
     "data": {
      "text/html": [
       "<div>\n",
       "<style scoped>\n",
       "    .dataframe tbody tr th:only-of-type {\n",
       "        vertical-align: middle;\n",
       "    }\n",
       "\n",
       "    .dataframe tbody tr th {\n",
       "        vertical-align: top;\n",
       "    }\n",
       "\n",
       "    .dataframe thead th {\n",
       "        text-align: right;\n",
       "    }\n",
       "</style>\n",
       "<table border=\"1\" class=\"dataframe\">\n",
       "  <thead>\n",
       "    <tr style=\"text-align: right;\">\n",
       "      <th></th>\n",
       "      <th>Id</th>\n",
       "      <th>ActivityDate</th>\n",
       "      <th>TotalSteps</th>\n",
       "      <th>TotalDistance</th>\n",
       "      <th>TrackerDistance</th>\n",
       "      <th>LoggedActivitiesDistance</th>\n",
       "      <th>VeryActiveDistance</th>\n",
       "      <th>ModeratelyActiveDistance</th>\n",
       "      <th>LightActiveDistance</th>\n",
       "      <th>SedentaryActiveDistance</th>\n",
       "      <th>VeryActiveMinutes</th>\n",
       "      <th>FairlyActiveMinutes</th>\n",
       "      <th>LightlyActiveMinutes</th>\n",
       "      <th>SedentaryMinutes</th>\n",
       "    </tr>\n",
       "  </thead>\n",
       "  <tbody>\n",
       "    <tr>\n",
       "      <th>0</th>\n",
       "      <td>1503960366</td>\n",
       "      <td>3/25/2016</td>\n",
       "      <td>11004</td>\n",
       "      <td>7.110000</td>\n",
       "      <td>7.110000</td>\n",
       "      <td>0.0</td>\n",
       "      <td>2.57</td>\n",
       "      <td>0.46</td>\n",
       "      <td>4.07</td>\n",
       "      <td>0.00</td>\n",
       "      <td>33</td>\n",
       "      <td>12</td>\n",
       "      <td>205</td>\n",
       "      <td>804</td>\n",
       "    </tr>\n",
       "    <tr>\n",
       "      <th>1</th>\n",
       "      <td>1503960366</td>\n",
       "      <td>3/26/2016</td>\n",
       "      <td>17609</td>\n",
       "      <td>11.550000</td>\n",
       "      <td>11.550000</td>\n",
       "      <td>0.0</td>\n",
       "      <td>6.92</td>\n",
       "      <td>0.73</td>\n",
       "      <td>3.91</td>\n",
       "      <td>0.00</td>\n",
       "      <td>89</td>\n",
       "      <td>17</td>\n",
       "      <td>274</td>\n",
       "      <td>588</td>\n",
       "    </tr>\n",
       "    <tr>\n",
       "      <th>2</th>\n",
       "      <td>1503960366</td>\n",
       "      <td>3/27/2016</td>\n",
       "      <td>12736</td>\n",
       "      <td>8.530000</td>\n",
       "      <td>8.530000</td>\n",
       "      <td>0.0</td>\n",
       "      <td>4.66</td>\n",
       "      <td>0.16</td>\n",
       "      <td>3.71</td>\n",
       "      <td>0.00</td>\n",
       "      <td>56</td>\n",
       "      <td>5</td>\n",
       "      <td>268</td>\n",
       "      <td>605</td>\n",
       "    </tr>\n",
       "    <tr>\n",
       "      <th>3</th>\n",
       "      <td>1503960366</td>\n",
       "      <td>3/28/2016</td>\n",
       "      <td>13231</td>\n",
       "      <td>8.930000</td>\n",
       "      <td>8.930000</td>\n",
       "      <td>0.0</td>\n",
       "      <td>3.19</td>\n",
       "      <td>0.79</td>\n",
       "      <td>4.95</td>\n",
       "      <td>0.00</td>\n",
       "      <td>39</td>\n",
       "      <td>20</td>\n",
       "      <td>224</td>\n",
       "      <td>1080</td>\n",
       "    </tr>\n",
       "    <tr>\n",
       "      <th>4</th>\n",
       "      <td>1503960366</td>\n",
       "      <td>3/29/2016</td>\n",
       "      <td>12041</td>\n",
       "      <td>7.850000</td>\n",
       "      <td>7.850000</td>\n",
       "      <td>0.0</td>\n",
       "      <td>2.16</td>\n",
       "      <td>1.09</td>\n",
       "      <td>4.61</td>\n",
       "      <td>0.00</td>\n",
       "      <td>28</td>\n",
       "      <td>28</td>\n",
       "      <td>243</td>\n",
       "      <td>763</td>\n",
       "    </tr>\n",
       "    <tr>\n",
       "      <th>...</th>\n",
       "      <td>...</td>\n",
       "      <td>...</td>\n",
       "      <td>...</td>\n",
       "      <td>...</td>\n",
       "      <td>...</td>\n",
       "      <td>...</td>\n",
       "      <td>...</td>\n",
       "      <td>...</td>\n",
       "      <td>...</td>\n",
       "      <td>...</td>\n",
       "      <td>...</td>\n",
       "      <td>...</td>\n",
       "      <td>...</td>\n",
       "      <td>...</td>\n",
       "    </tr>\n",
       "    <tr>\n",
       "      <th>452</th>\n",
       "      <td>8877689391</td>\n",
       "      <td>4/8/2016</td>\n",
       "      <td>23014</td>\n",
       "      <td>20.389999</td>\n",
       "      <td>20.389999</td>\n",
       "      <td>0.0</td>\n",
       "      <td>11.10</td>\n",
       "      <td>0.63</td>\n",
       "      <td>8.62</td>\n",
       "      <td>0.00</td>\n",
       "      <td>70</td>\n",
       "      <td>29</td>\n",
       "      <td>359</td>\n",
       "      <td>982</td>\n",
       "    </tr>\n",
       "    <tr>\n",
       "      <th>453</th>\n",
       "      <td>8877689391</td>\n",
       "      <td>4/9/2016</td>\n",
       "      <td>16470</td>\n",
       "      <td>8.070000</td>\n",
       "      <td>8.070000</td>\n",
       "      <td>0.0</td>\n",
       "      <td>0.00</td>\n",
       "      <td>0.02</td>\n",
       "      <td>8.02</td>\n",
       "      <td>0.00</td>\n",
       "      <td>90</td>\n",
       "      <td>9</td>\n",
       "      <td>289</td>\n",
       "      <td>1052</td>\n",
       "    </tr>\n",
       "    <tr>\n",
       "      <th>454</th>\n",
       "      <td>8877689391</td>\n",
       "      <td>4/10/2016</td>\n",
       "      <td>28497</td>\n",
       "      <td>27.530001</td>\n",
       "      <td>27.530001</td>\n",
       "      <td>0.0</td>\n",
       "      <td>21.92</td>\n",
       "      <td>1.12</td>\n",
       "      <td>4.46</td>\n",
       "      <td>0.00</td>\n",
       "      <td>128</td>\n",
       "      <td>46</td>\n",
       "      <td>211</td>\n",
       "      <td>1055</td>\n",
       "    </tr>\n",
       "    <tr>\n",
       "      <th>455</th>\n",
       "      <td>8877689391</td>\n",
       "      <td>4/11/2016</td>\n",
       "      <td>10622</td>\n",
       "      <td>8.060000</td>\n",
       "      <td>8.060000</td>\n",
       "      <td>0.0</td>\n",
       "      <td>1.47</td>\n",
       "      <td>0.15</td>\n",
       "      <td>6.37</td>\n",
       "      <td>0.01</td>\n",
       "      <td>18</td>\n",
       "      <td>7</td>\n",
       "      <td>225</td>\n",
       "      <td>1190</td>\n",
       "    </tr>\n",
       "    <tr>\n",
       "      <th>456</th>\n",
       "      <td>8877689391</td>\n",
       "      <td>4/12/2016</td>\n",
       "      <td>2350</td>\n",
       "      <td>1.780000</td>\n",
       "      <td>1.780000</td>\n",
       "      <td>0.0</td>\n",
       "      <td>0.00</td>\n",
       "      <td>0.00</td>\n",
       "      <td>1.78</td>\n",
       "      <td>0.00</td>\n",
       "      <td>0</td>\n",
       "      <td>0</td>\n",
       "      <td>58</td>\n",
       "      <td>531</td>\n",
       "    </tr>\n",
       "  </tbody>\n",
       "</table>\n",
       "<p>457 rows × 14 columns</p>\n",
       "</div>"
      ],
      "text/plain": [
       "             Id ActivityDate  TotalSteps  TotalDistance  TrackerDistance  \\\n",
       "0    1503960366    3/25/2016       11004       7.110000         7.110000   \n",
       "1    1503960366    3/26/2016       17609      11.550000        11.550000   \n",
       "2    1503960366    3/27/2016       12736       8.530000         8.530000   \n",
       "3    1503960366    3/28/2016       13231       8.930000         8.930000   \n",
       "4    1503960366    3/29/2016       12041       7.850000         7.850000   \n",
       "..          ...          ...         ...            ...              ...   \n",
       "452  8877689391     4/8/2016       23014      20.389999        20.389999   \n",
       "453  8877689391     4/9/2016       16470       8.070000         8.070000   \n",
       "454  8877689391    4/10/2016       28497      27.530001        27.530001   \n",
       "455  8877689391    4/11/2016       10622       8.060000         8.060000   \n",
       "456  8877689391    4/12/2016        2350       1.780000         1.780000   \n",
       "\n",
       "     LoggedActivitiesDistance  VeryActiveDistance  ModeratelyActiveDistance  \\\n",
       "0                         0.0                2.57                      0.46   \n",
       "1                         0.0                6.92                      0.73   \n",
       "2                         0.0                4.66                      0.16   \n",
       "3                         0.0                3.19                      0.79   \n",
       "4                         0.0                2.16                      1.09   \n",
       "..                        ...                 ...                       ...   \n",
       "452                       0.0               11.10                      0.63   \n",
       "453                       0.0                0.00                      0.02   \n",
       "454                       0.0               21.92                      1.12   \n",
       "455                       0.0                1.47                      0.15   \n",
       "456                       0.0                0.00                      0.00   \n",
       "\n",
       "     LightActiveDistance  SedentaryActiveDistance  VeryActiveMinutes  \\\n",
       "0                   4.07                     0.00                 33   \n",
       "1                   3.91                     0.00                 89   \n",
       "2                   3.71                     0.00                 56   \n",
       "3                   4.95                     0.00                 39   \n",
       "4                   4.61                     0.00                 28   \n",
       "..                   ...                      ...                ...   \n",
       "452                 8.62                     0.00                 70   \n",
       "453                 8.02                     0.00                 90   \n",
       "454                 4.46                     0.00                128   \n",
       "455                 6.37                     0.01                 18   \n",
       "456                 1.78                     0.00                  0   \n",
       "\n",
       "     FairlyActiveMinutes  LightlyActiveMinutes  SedentaryMinutes  \n",
       "0                     12                   205               804  \n",
       "1                     17                   274               588  \n",
       "2                      5                   268               605  \n",
       "3                     20                   224              1080  \n",
       "4                     28                   243               763  \n",
       "..                   ...                   ...               ...  \n",
       "452                   29                   359               982  \n",
       "453                    9                   289              1052  \n",
       "454                   46                   211              1055  \n",
       "455                    7                   225              1190  \n",
       "456                    0                    58               531  \n",
       "\n",
       "[457 rows x 14 columns]"
      ]
     },
     "execution_count": 35,
     "metadata": {},
     "output_type": "execute_result"
    }
   ],
   "source": [
    "a=companies.iloc[:,:-1]\n",
    "a"
   ]
  },
  {
   "cell_type": "code",
   "execution_count": 36,
   "metadata": {
    "scrolled": true
   },
   "outputs": [
    {
     "data": {
      "text/plain": [
       "LinearRegression()"
      ]
     },
     "execution_count": 36,
     "metadata": {},
     "output_type": "execute_result"
    }
   ],
   "source": [
    "from sklearn.linear_model import LinearRegression\n",
    "regressor=LinearRegression()\n",
    "x_train=x_train.reshape(-1,1)\n",
    "regressor.fit(x_train,y_train)"
   ]
  },
  {
   "cell_type": "code",
   "execution_count": 37,
   "metadata": {},
   "outputs": [
    {
     "data": {
      "text/plain": [
       "array([-1.61308858,  3.94716596,  5.60021461,  3.3773651 , -0.93371063,\n",
       "        5.07111381,  4.80186725,  3.64348089,  3.3773651 ,  1.96225528,\n",
       "        4.18823556,  2.53831769,  5.9258151 ,  3.38362665,  5.45306824,\n",
       "        6.03226142,  6.37977733,  0.75377653,  5.20573709,  4.26650491,\n",
       "        4.56079766,  4.17258169,  3.3773651 ,  3.11438009,  2.0436554 ,\n",
       "        2.92027211,  6.43300048,  6.61771615,  7.27517868,  3.17699557,\n",
       "        0.29042199,  2.17514791,  3.38362665, 11.07280748,  4.10996621,\n",
       "        7.59138685,  4.8926597 ,  7.58199452,  6.85252419,  0.02743697,\n",
       "        9.44167425,  4.70794404,  3.96908138,  4.00978144,  9.16616615,\n",
       "        4.28215878,  3.69670405,  4.15379705,  0.68803028, -1.39706518,\n",
       "        7.57886375,  4.26650491, -2.18288944,  3.44937291,  6.50500828,\n",
       "        4.40425896,  3.92838132,  7.7166178 ,  3.73114256,  5.33096805,\n",
       "        2.29098654,  2.69798716,  3.71235792,  3.4744191 ,  5.6972686 ,\n",
       "        9.84241332,  0.76629963,  2.58841007,  3.16447248,  3.93151209,\n",
       "        3.3773651 ,  6.77738562,  7.47867898,  4.29468187,  3.52138071,\n",
       "        3.38049588,  3.3773651 , -0.93371063,  6.68972395, -2.18288944,\n",
       "        4.87074428,  4.71107481,  3.6059116 , -2.18288944,  3.52764225,\n",
       "        2.97975681,  3.21456486,  4.17884324,  8.59949606,  4.85822118,\n",
       "        4.00665067,  2.29724809,  3.82819655,  2.45378679,  3.73114256,\n",
       "        2.03426308,  5.31531418,  2.64163323,  6.9840167 ,  4.34790503,\n",
       "        4.43869748,  3.72175024,  4.26024336,  4.81752112,  1.84954742,\n",
       "        3.95655829,  3.58712696,  4.58584385,  3.51511916,  5.40610663,\n",
       "        4.49505141,  3.82819655,  3.66539631,  3.69670405,  5.63152235,\n",
       "        2.01860921,  5.46559133,  7.73227167,  1.77440884,  3.70922714,\n",
       "        9.88937493,  3.74992721,  8.39286498,  3.87515816, 11.02897665,\n",
       "        6.87130884,  6.99340902,  5.89763814,  5.15564471,  1.39871597,\n",
       "       -0.78656425,  5.51255294,  4.26650491,  6.88070116,  9.41975884,\n",
       "        6.5394468 ,  4.79560571,  3.51511916])"
      ]
     },
     "execution_count": 37,
     "metadata": {},
     "output_type": "execute_result"
    }
   ],
   "source": [
    "x_test=x_test.reshape(-1,1)\n",
    "y_pred=regressor.predict(x_test)\n",
    "y_pred"
   ]
  },
  {
   "cell_type": "code",
   "execution_count": 38,
   "metadata": {},
   "outputs": [
    {
     "name": "stdout",
     "output_type": "stream",
     "text": [
      "[0.00313077]\n"
     ]
    }
   ],
   "source": [
    "print(regressor.coef_)"
   ]
  },
  {
   "cell_type": "code",
   "execution_count": 39,
   "metadata": {},
   "outputs": [
    {
     "name": "stdout",
     "output_type": "stream",
     "text": [
      "-2.1828894375712125\n"
     ]
    }
   ],
   "source": [
    "print(regressor.intercept_)"
   ]
  },
  {
   "cell_type": "code",
   "execution_count": 40,
   "metadata": {},
   "outputs": [
    {
     "data": {
      "text/plain": [
       "0.35961772564083416"
      ]
     },
     "execution_count": 40,
     "metadata": {},
     "output_type": "execute_result"
    }
   ],
   "source": [
    "from sklearn.metrics import r2_score\n",
    "r2_score(y_test,y_pred)"
   ]
  },
  {
   "cell_type": "code",
   "execution_count": null,
   "metadata": {},
   "outputs": [],
   "source": []
  },
  {
   "cell_type": "code",
   "execution_count": null,
   "metadata": {},
   "outputs": [],
   "source": []
  }
 ],
 "metadata": {
  "kernelspec": {
   "display_name": "Python 3",
   "language": "python",
   "name": "python3"
  },
  "language_info": {
   "codemirror_mode": {
    "name": "ipython",
    "version": 3
   },
   "file_extension": ".py",
   "mimetype": "text/x-python",
   "name": "python",
   "nbconvert_exporter": "python",
   "pygments_lexer": "ipython3",
   "version": "3.8.5"
  }
 },
 "nbformat": 4,
 "nbformat_minor": 4
}
